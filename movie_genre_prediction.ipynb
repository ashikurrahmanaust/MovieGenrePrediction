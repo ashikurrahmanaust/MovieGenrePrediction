{
  "nbformat": 4,
  "nbformat_minor": 0,
  "metadata": {
    "colab": {
      "name": "soft_computing_final_sfile.ipynb",
      "provenance": [],
      "collapsed_sections": []
    },
    "kernelspec": {
      "name": "python3",
      "display_name": "Python 3"
    }
  },
  "cells": [
    {
      "cell_type": "code",
      "metadata": {
        "colab": {
          "base_uri": "https://localhost:8080/"
        },
        "id": "T1EnrhcmD6gk",
        "outputId": "21b761cb-c122-4571-8be7-1259c19cc507"
      },
      "source": [
        "from google.colab import drive\n",
        "drive.mount('/content/drive')"
      ],
      "execution_count": null,
      "outputs": [
        {
          "output_type": "stream",
          "text": [
            "Mounted at /content/drive\n"
          ],
          "name": "stdout"
        }
      ]
    },
    {
      "cell_type": "code",
      "metadata": {
        "id": "grdqZmmnEW3_"
      },
      "source": [
        "project_path = '/content/drive/MyDrive/soft_computing/final_project/'\n",
        "data_path = '/content/drive/MyDrive/soft_computing/final_project/dataset/trainingSet.csv'"
      ],
      "execution_count": null,
      "outputs": []
    },
    {
      "cell_type": "code",
      "metadata": {
        "id": "k0Sq80eCEs_a"
      },
      "source": [
        "import pandas as pd\n",
        "import numpy as np\n",
        "import matplotlib.pyplot as plt\n",
        "from sortedcontainers import SortedList, SortedSet, SortedDict"
      ],
      "execution_count": null,
      "outputs": []
    },
    {
      "cell_type": "markdown",
      "metadata": {
        "id": "zJxIFWxKIgFK"
      },
      "source": [
        "\n",
        "\n",
        "**1. Reading Dataset**\n",
        "\n"
      ]
    },
    {
      "cell_type": "code",
      "metadata": {
        "id": "f2Y9fxv_IoJx"
      },
      "source": [
        "df = pd.read_csv(data_path)\n",
        "df.drop('Genre2',axis='columns', inplace=True)\n",
        "df.drop('Genre3',axis='columns', inplace=True)"
      ],
      "execution_count": null,
      "outputs": []
    },
    {
      "cell_type": "markdown",
      "metadata": {
        "id": "QAqaYxYOHCuJ"
      },
      "source": [
        "\n",
        "\n",
        "**2. Dataset Analysis**\n",
        "\n"
      ]
    },
    {
      "cell_type": "code",
      "metadata": {
        "colab": {
          "base_uri": "https://localhost:8080/",
          "height": 399
        },
        "id": "DGC7TQeiJXpz",
        "outputId": "9eef1d69-3d90-4570-ef83-ac25abc04fdf"
      },
      "source": [
        "df"
      ],
      "execution_count": null,
      "outputs": [
        {
          "output_type": "execute_result",
          "data": {
            "text/html": [
              "<div>\n",
              "<style scoped>\n",
              "    .dataframe tbody tr th:only-of-type {\n",
              "        vertical-align: middle;\n",
              "    }\n",
              "\n",
              "    .dataframe tbody tr th {\n",
              "        vertical-align: top;\n",
              "    }\n",
              "\n",
              "    .dataframe thead th {\n",
              "        text-align: right;\n",
              "    }\n",
              "</style>\n",
              "<table border=\"1\" class=\"dataframe\">\n",
              "  <thead>\n",
              "    <tr style=\"text-align: right;\">\n",
              "      <th></th>\n",
              "      <th>imdbID</th>\n",
              "      <th>Title</th>\n",
              "      <th>Plot</th>\n",
              "      <th>Genre1</th>\n",
              "    </tr>\n",
              "  </thead>\n",
              "  <tbody>\n",
              "    <tr>\n",
              "      <th>0</th>\n",
              "      <td>tt0114709</td>\n",
              "      <td>Toy Story</td>\n",
              "      <td>A little boy named Andy loves to be in his roo...</td>\n",
              "      <td>Animation</td>\n",
              "    </tr>\n",
              "    <tr>\n",
              "      <th>1</th>\n",
              "      <td>tt0113497</td>\n",
              "      <td>Jumanji</td>\n",
              "      <td>After being trapped in a jungle board game for...</td>\n",
              "      <td>Action</td>\n",
              "    </tr>\n",
              "    <tr>\n",
              "      <th>2</th>\n",
              "      <td>tt0113228</td>\n",
              "      <td>Grumpier Old Men</td>\n",
              "      <td>Things don't seem to change much in Wabasha Co...</td>\n",
              "      <td>Comedy</td>\n",
              "    </tr>\n",
              "    <tr>\n",
              "      <th>3</th>\n",
              "      <td>tt0114885</td>\n",
              "      <td>Waiting to Exhale</td>\n",
              "      <td>This story based on the best selling novel by ...</td>\n",
              "      <td>Comedy</td>\n",
              "    </tr>\n",
              "    <tr>\n",
              "      <th>4</th>\n",
              "      <td>tt0113041</td>\n",
              "      <td>Father of the Bride Part II</td>\n",
              "      <td>In this sequel to \"Father of the Bride\", Georg...</td>\n",
              "      <td>Comedy</td>\n",
              "    </tr>\n",
              "    <tr>\n",
              "      <th>...</th>\n",
              "      <td>...</td>\n",
              "      <td>...</td>\n",
              "      <td>...</td>\n",
              "      <td>...</td>\n",
              "    </tr>\n",
              "    <tr>\n",
              "      <th>4451</th>\n",
              "      <td>tt0790770</td>\n",
              "      <td>Miles Ahead</td>\n",
              "      <td>An exploration of the life and music of Miles ...</td>\n",
              "      <td>Biography</td>\n",
              "    </tr>\n",
              "    <tr>\n",
              "      <th>4452</th>\n",
              "      <td>tt0165473</td>\n",
              "      <td>Demons</td>\n",
              "      <td>After being robbed by a geisha, a ronin warrio...</td>\n",
              "      <td>Drama</td>\n",
              "    </tr>\n",
              "    <tr>\n",
              "      <th>4453</th>\n",
              "      <td>tt0155350</td>\n",
              "      <td>The Video Dead</td>\n",
              "      <td>An unlabelled crate from an unknown source is ...</td>\n",
              "      <td>Comedy</td>\n",
              "    </tr>\n",
              "    <tr>\n",
              "      <th>4454</th>\n",
              "      <td>tt0918940</td>\n",
              "      <td>The Legend of Tarzan</td>\n",
              "      <td>John Clayton following his parents' death in A...</td>\n",
              "      <td>Action</td>\n",
              "    </tr>\n",
              "    <tr>\n",
              "      <th>4455</th>\n",
              "      <td>tt0255313</td>\n",
              "      <td>The Last Brickmaker in America</td>\n",
              "      <td>A man must cope with the loss of his wife and ...</td>\n",
              "      <td>Drama</td>\n",
              "    </tr>\n",
              "  </tbody>\n",
              "</table>\n",
              "<p>4456 rows × 4 columns</p>\n",
              "</div>"
            ],
            "text/plain": [
              "         imdbID  ...     Genre1\n",
              "0     tt0114709  ...  Animation\n",
              "1     tt0113497  ...     Action\n",
              "2     tt0113228  ...     Comedy\n",
              "3     tt0114885  ...     Comedy\n",
              "4     tt0113041  ...     Comedy\n",
              "...         ...  ...        ...\n",
              "4451  tt0790770  ...  Biography\n",
              "4452  tt0165473  ...      Drama\n",
              "4453  tt0155350  ...     Comedy\n",
              "4454  tt0918940  ...     Action\n",
              "4455  tt0255313  ...      Drama\n",
              "\n",
              "[4456 rows x 4 columns]"
            ]
          },
          "metadata": {
            "tags": []
          },
          "execution_count": 5
        }
      ]
    },
    {
      "cell_type": "code",
      "metadata": {
        "id": "uC9_MerZEzCI"
      },
      "source": [
        "distinct_genres = SortedSet() #ordered set of distict element\n",
        "for i in range(1, 2):\n",
        "  column = \"Genre\" + str(i)\n",
        "  for x in df[column]:\n",
        "    gnr = str(x)\n",
        "    gnr = gnr.lower()\n",
        "    gnr = gnr.strip()\n",
        "    gnr = gnr.strip(' ')\n",
        "    if (str(gnr) != \"nan\"):\n",
        "      distinct_genres.add(gnr)\n",
        "#print('In this dataset there are', len(distinct_genres), 'distinct genres')\n",
        "all_genres = list(distinct_genres)\n",
        "print(all_genres)"
      ],
      "execution_count": null,
      "outputs": []
    },
    {
      "cell_type": "markdown",
      "metadata": {
        "id": "4__Lf23nKZ4g"
      },
      "source": [
        "**In this dataset there are 22 distinct genres** <br> <br>\n",
        "\n",
        "1 action <br>\n",
        "2 adventure <br>\n",
        "3 animation <br>\n",
        "4 biography <br>\n",
        "5 comedy <br>\n",
        "6 crime <br>\n",
        "7 documentary <br>\n",
        "8 drama <br>\n",
        "9 family <br>\n",
        "10 fantasy <br>\n",
        "11 history <br>\n",
        "12 horror <br>\n",
        "13 music <br>\n",
        "14 musical <br>\n",
        "15 mystery <br>\n",
        "16 romance <br>\n",
        "17 sci-fi <br>\n",
        "18 short <br>\n",
        "19 sport <br>\n",
        "20 thriller <br>\n",
        "21 war <br>\n",
        "22 western <br>"
      ]
    },
    {
      "cell_type": "code",
      "metadata": {
        "id": "HY0srhoRRRNm"
      },
      "source": [
        "all_genres_count = {}       # counting every genres\n",
        "for i in range(1, 2):\n",
        "  column = \"Genre\" + str(i)\n",
        "  for x in df[column]:\n",
        "    gnr = str(x)\n",
        "    gnr = gnr.lower()\n",
        "    gnr = gnr.strip()\n",
        "    gnr = gnr.strip(' ')\n",
        "    if (str(gnr) != \"nan\"):\n",
        "      if (all_genres_count.get(gnr) == None):\n",
        "        all_genres_count[gnr] = 1\n",
        "      else :\n",
        "        all_genres_count[gnr] += 1\n",
        "#print('In this dataset there are', len(distinct_genres), 'distinct genres')"
      ],
      "execution_count": null,
      "outputs": []
    },
    {
      "cell_type": "code",
      "metadata": {
        "id": "9I22ecX6Rry5"
      },
      "source": [
        "plot_column_name = []\n",
        "plot_height = []\n",
        "for name, cnt in all_genres_count.items():\n",
        "  plot_column_name.append(name)\n",
        "  plot_height.append(cnt)"
      ],
      "execution_count": null,
      "outputs": []
    },
    {
      "cell_type": "code",
      "metadata": {
        "colab": {
          "base_uri": "https://localhost:8080/",
          "height": 577
        },
        "id": "xnrTvoOcSLb8",
        "outputId": "fb296c3e-fb5e-4c62-90a9-c8209d36334b"
      },
      "source": [
        "x = np.arange(len(plot_height))\n",
        "width = .75\n",
        "fig, ax = plt.subplots()\n",
        "fig.set_figheight(8)\n",
        "fig.set_figwidth(22)\n",
        "rects1 = ax.bar(x, plot_height, width, color=(0.0, 0.0, 0.9, 0.6))\n",
        "for i, v in enumerate(plot_height):\n",
        "    plt.text(x[i] - width / 2, v, str(v))\n",
        "plt.xticks(x, plot_column_name, rotation='vertical')\n",
        "plt.legend()"
      ],
      "execution_count": null,
      "outputs": [
        {
          "output_type": "stream",
          "text": [
            "No handles with labels found to put in legend.\n"
          ],
          "name": "stderr"
        },
        {
          "output_type": "execute_result",
          "data": {
            "text/plain": [
              "<matplotlib.legend.Legend at 0x7fbf896e47d0>"
            ]
          },
          "metadata": {
            "tags": []
          },
          "execution_count": 9
        },
        {
          "output_type": "display_data",
          "data": {
            "image/png": "[encoded data removed]",
            "text/plain": [
              "<Figure size 1584x576 with 1 Axes>"
            ]
          },
          "metadata": {
            "tags": [],
            "needs_background": "light"
          }
        }
      ]
    },
    {
      "cell_type": "code",
      "metadata": {
        "id": "hTzoir9AWV0p"
      },
      "source": [
        "from sklearn.feature_extraction.text import CountVectorizer\n",
        "from sklearn.feature_extraction.text import TfidfVectorizer\n",
        "from sklearn.metrics import confusion_matrix\n",
        "from sklearn.metrics import classification_report\n",
        "\n",
        "import os\n",
        "from os import path\n",
        "import shutil\n",
        "import numpy as np\n",
        "import pandas as pd\n",
        "import torch\n",
        "import torch.nn as nn\n",
        "import torch.nn.functional as F\n",
        "import torch.optim as optim\n",
        "from torch.utils.data import Dataset\n",
        "from torch.utils.data.sampler import SubsetRandomSampler\n",
        "from torchvision import datasets, transforms, models\n",
        "import matplotlib\n",
        "import matplotlib.pyplot as plt\n",
        "from PIL import Image\n",
        "import threading\n",
        "import random"
      ],
      "execution_count": null,
      "outputs": []
    },
    {
      "cell_type": "code",
      "metadata": {
        "id": "PKaU6UZq5RHo"
      },
      "source": [
        "class Custom_Count_Vectorizer:\n",
        "  \"\"\"instance\"\"\"\n",
        "  my_vectorizer = None\n",
        "  word_vector = None\n",
        "  dataset = None\n",
        "\n",
        "  \"\"\"methods\"\"\"\n",
        "  #@ initalize the vocabulary based on the given corpus and make a dataset with given labels\n",
        "  def __init__(self, corpus, corpus_label, vectorizer = 'COUNT-B'):\n",
        "    #@ initialize the vectorizer\n",
        "    if (vectorizer == 'COUNT-B'):\n",
        "      self.my_vectorizer = CountVectorizer(stop_words='english', binary=True)\n",
        "      print('Using Binary Count Vectorizer')\n",
        "    elif (vectorizer == 'COUNT'):\n",
        "      self.my_vectorizer = CountVectorizer(stop_words='english')\n",
        "      print('Using Count Vectorizer')\n",
        "    elif (vectorizer == 'TF-IDF'):\n",
        "      self.my_vectorizer = TfidfVectorizer(stop_words='english')\n",
        "      print('Using TF-IDF Vectorizer')\n",
        "    else:\n",
        "      self.my_vectorizer = CountVectorizer(stop_words='english', binary=True)\n",
        "      print('Can not use the specific vectorizer.\\nUsing Binary Count Vectorizer as Default')\n",
        "\n",
        "    self.word_vector = self.my_vectorizer.fit_transform(corpus).toarray()\n",
        "    assert(len(self.word_vector) == len(corpus_label))\n",
        "    self.dataset = []\n",
        "    for i in range(len(self.word_vector)):\n",
        "      self.dataset.append((torch.FloatTensor(self.word_vector[i]) / corpus_label[i][1], corpus_label[i][0]))\n",
        "\n",
        "  #@ returns a word vector for a new text, based on the vocabulary\n",
        "  def get_vector(self, ar):\n",
        "    return self.my_vectorizer.transform([ar]).toarray()[0]\n",
        "  \n",
        "  #@ retruns a word vector for a new text, based on the vocabulary in a tensor form\n",
        "  def get_tensor(self, ar):\n",
        "    return torch.FloatTensor(self.my_vectorizer.transform([ar]).toarray()[0])\n",
        "\n",
        "  #@ returns a dataset with labels, based on the corpus that was given during class initialization\n",
        "  def get_dataset(self, shuffle = False):\n",
        "    if (shuffle):\n",
        "      random.shuffle(self.dataset)\n",
        "    return self.dataset\n",
        "\n",
        "\n",
        "#corpus -> Word E -vectorizer(preprocessing + word vector) -> tensor -> "
      ],
      "execution_count": null,
      "outputs": []
    },
    {
      "cell_type": "code",
      "metadata": {
        "id": "jXZWSAhHG7lO"
      },
      "source": [
        "label_to_int = {}\n",
        "int_to_label = {}\n",
        "given_label = 0\n",
        "for name in all_genres_count.keys():\n",
        "  label_to_int[name] = given_label\n",
        "  int_to_label[given_label] = name\n",
        "  given_label += 1"
      ],
      "execution_count": null,
      "outputs": []
    },
    {
      "cell_type": "code",
      "metadata": {
        "id": "wUD6EF2R6OxB"
      },
      "source": [
        "corpus = []\n",
        "corpus_label = []\n",
        "def make_corpus():\n",
        "  for i in range(len(df['Plot'])):\n",
        "    sen = str(df['Plot'][i])\n",
        "    sen = sen.strip()\n",
        "    sen = sen.strip(' ')\n",
        "    for j in range(1, 2):\n",
        "      gg = str('Genre') + str(j)\n",
        "      gnr = str(df[gg][i])\n",
        "      gnr = gnr.lower()\n",
        "      gnr = gnr.strip()\n",
        "      gnr = gnr.strip(' ')\n",
        "      if (gnr != \"nan\"):\n",
        "        corpus.append(sen)\n",
        "        ival = label_to_int[gnr]\n",
        "        assert(ival >= 0 and ival < 19)\n",
        "        corpus_label.append((ival, j * j))\n",
        "make_corpus()"
      ],
      "execution_count": null,
      "outputs": []
    },
    {
      "cell_type": "markdown",
      "metadata": {
        "id": "2njXJk7e-LVm"
      },
      "source": [
        "**TF-IDF + Deep Neural Network**"
      ]
    },
    {
      "cell_type": "code",
      "metadata": {
        "id": "3THLC_MPGpwn",
        "colab": {
          "base_uri": "https://localhost:8080/"
        },
        "outputId": "f4332878-7fdd-4727-ea45-9bfa4df07ffd"
      },
      "source": [
        "custom_count_vectorizer = Custom_Count_Vectorizer(corpus=corpus, corpus_label=corpus_label, vectorizer='TF-IDF')\n",
        "dataset = custom_count_vectorizer.get_dataset(shuffle = True)"
      ],
      "execution_count": null,
      "outputs": [
        {
          "output_type": "stream",
          "text": [
            "Using TF-IDF Vectorizer\n"
          ],
          "name": "stdout"
        }
      ]
    },
    {
      "cell_type": "code",
      "metadata": {
        "colab": {
          "base_uri": "https://localhost:8080/"
        },
        "id": "hw3BjBqoJ_hJ",
        "outputId": "3dcc06cb-db3c-4560-c857-19b962266d02"
      },
      "source": [
        "train_cnt = int(80.0 * len(dataset) / 100.0)\n",
        "train_dataset = dataset[ : train_cnt]\n",
        "test_dataset = dataset[train_cnt : ]\n",
        "print('Train size =', len(train_dataset), '\\nTest size =', len(test_dataset))"
      ],
      "execution_count": null,
      "outputs": [
        {
          "output_type": "stream",
          "text": [
            "Train size = 3564 \n",
            "Test size = 892\n"
          ],
          "name": "stdout"
        }
      ]
    },
    {
      "cell_type": "code",
      "metadata": {
        "id": "_AZknFjiKd9o"
      },
      "source": [
        "# Hyperparameters\n",
        "batch_size = 10\n",
        "num_iters = 3000\n",
        "input_dim = len(dataset[0][0])\n",
        "output_dim = len(all_genres)\n",
        "learning_rate = 0.001\n",
        "\n",
        "# Device\n",
        "device = torch.device(\"cuda:0\" if torch.cuda.is_available() else \"cpu\")"
      ],
      "execution_count": null,
      "outputs": []
    },
    {
      "cell_type": "code",
      "metadata": {
        "colab": {
          "base_uri": "https://localhost:8080/"
        },
        "id": "no1BsbUZK8kk",
        "outputId": "9e9893a3-c8ef-4864-9d1f-2ea8bfec99f7"
      },
      "source": [
        "num_epochs = num_iters / (len(train_dataset) / batch_size)\n",
        "num_epochs = int(num_epochs)\n",
        "\n",
        "train_loader = torch.utils.data.DataLoader(dataset=train_dataset, \n",
        "                                           batch_size=batch_size, \n",
        "                                           shuffle=True)   # It's better to shuffle the whole training dataset! \n",
        "\n",
        "test_loader = torch.utils.data.DataLoader(dataset=test_dataset, \n",
        "                                          batch_size=batch_size, \n",
        "                                          shuffle=False)  \n",
        "print(num_epochs)"
      ],
      "execution_count": null,
      "outputs": [
        {
          "output_type": "stream",
          "text": [
            "8\n"
          ],
          "name": "stdout"
        }
      ]
    },
    {
      "cell_type": "code",
      "metadata": {
        "id": "HAq52h6TK_-j"
      },
      "source": [
        "class DeepNeuralNetworkModel(nn.Module):\n",
        "  def __init__(self, input_size, num_classes, num_hidden_1, num_hidden_2, num_hidden_3):\n",
        "    super().__init__()\n",
        "    ### 1st hidden layer: 784 --> 100\n",
        "    self.linear_1 = nn.Linear(input_size, num_hidden_1)\n",
        "    ### Non-linearity in 1st hidden layer\n",
        "    self.relu_1 = nn.ReLU6()\n",
        "\n",
        "    ### 2nd hidden layer: 100 --> 100\n",
        "    self.linear_2 = nn.Linear(num_hidden_1, num_hidden_2)\n",
        "    ### Non-linearity in 2nd hidden layer\n",
        "    self.relu_2 = nn.ReLU6()\n",
        "\n",
        "    self.linear_3 = nn.Linear(num_hidden_2, num_hidden_3)\n",
        "    ### Non-linearity in 2nd hidden layer\n",
        "    self.relu_3 = nn.ReLU6()\n",
        "\n",
        "    ### Output layer: 100 --> 10\n",
        "    self.linear_out = nn.Linear(num_hidden_3, num_classes)\n",
        "\n",
        "  def forward(self, x):\n",
        "    ### 1st hidden layer\n",
        "    out  = self.linear_1(x)\n",
        "    ### Non-linearity in 1st hidden layer\n",
        "    out = self.relu_1(out)\n",
        "    \n",
        "    ### 2nd hidden layer\n",
        "    out  = self.linear_2(out)\n",
        "    ### Non-linearity in 2nd hidden layer\n",
        "    out = self.relu_2(out)\n",
        "    \n",
        "    ### 2nd hidden layer\n",
        "    out  = self.linear_3(out)\n",
        "    ### Non-linearity in 2nd hidden layer\n",
        "    out = self.relu_3(out)\n",
        "\n",
        "    # Linear layer (output)\n",
        "    probas  = self.linear_out(out)\n",
        "    return probas"
      ],
      "execution_count": null,
      "outputs": []
    },
    {
      "cell_type": "code",
      "metadata": {
        "colab": {
          "base_uri": "https://localhost:8080/"
        },
        "id": "BFYj34bVLCTg",
        "outputId": "ed7c89f7-2838-48b5-bf19-569de950dc9e"
      },
      "source": [
        "model = DeepNeuralNetworkModel(input_size = input_dim,\n",
        "                               num_classes = output_dim,\n",
        "                               num_hidden_1 = 512, num_hidden_2 = 256, num_hidden_3 = 64)\n",
        "# To enable GPU\n",
        "model.to(device)"
      ],
      "execution_count": null,
      "outputs": [
        {
          "output_type": "execute_result",
          "data": {
            "text/plain": [
              "DeepNeuralNetworkModel(\n",
              "  (linear_1): Linear(in_features=25769, out_features=512, bias=True)\n",
              "  (relu_1): ReLU6()\n",
              "  (linear_2): Linear(in_features=512, out_features=256, bias=True)\n",
              "  (relu_2): ReLU6()\n",
              "  (linear_3): Linear(in_features=256, out_features=64, bias=True)\n",
              "  (relu_3): ReLU6()\n",
              "  (linear_out): Linear(in_features=64, out_features=19, bias=True)\n",
              ")"
            ]
          },
          "metadata": {
            "tags": []
          },
          "execution_count": 19
        }
      ]
    },
    {
      "cell_type": "code",
      "metadata": {
        "id": "bPli1yD0LD5R"
      },
      "source": [
        "# INSTANTIATE OPTIMIZER CLASS\n",
        "optimizer = torch.optim.Adam(model.parameters(), lr=learning_rate)\n",
        "criterion = nn.CrossEntropyLoss()"
      ],
      "execution_count": null,
      "outputs": []
    },
    {
      "cell_type": "code",
      "metadata": {
        "colab": {
          "base_uri": "https://localhost:8080/"
        },
        "id": "z_upBENjLFq2",
        "outputId": "45fc2b7b-e5ed-4553-de22-3996a339d002"
      },
      "source": [
        "iteration_loss = []\n",
        "iter = 0\n",
        "for epoch in range(num_epochs):\n",
        "  for i, (plots, labels) in enumerate(train_loader):\n",
        "\n",
        "    plots = plots.view(-1, input_dim).to(device)\n",
        "    labels = labels.to(device)\n",
        "\n",
        "    # Clear gradients w.r.t. parameters\n",
        "    optimizer.zero_grad()\n",
        "\n",
        "    # Forward pass to get output/logits\n",
        "    outputs = model(plots) \n",
        "    \n",
        "    # Calculate Loss: softmax --> cross entropy loss\n",
        "    loss = criterion(outputs, labels)\n",
        "\n",
        "    # Getting gradients w.r.t. parameters\n",
        "    loss.backward()\n",
        "\n",
        "    # Updating parameters\n",
        "    optimizer.step()\n",
        "\n",
        "    iter += 1\n",
        "\n",
        "    if iter % 500 == 0:\n",
        "      # Calculate Accuracy         \n",
        "      correct = 0\n",
        "      total = 0\n",
        "      # Iterate through test dataset\n",
        "      for plots, labels in test_loader:\n",
        "               \n",
        "        plots = plots.view(-1, input_dim).to(device)\n",
        "\n",
        "        # Forward pass only to get logits/output\n",
        "        outputs = model(plots)\n",
        "\n",
        "        # Get predictions from the maximum value\n",
        "        _, predicted = torch.max(outputs, 1)\n",
        "\n",
        "        # Total number of labels\n",
        "        total += labels.size(0)\n",
        "\n",
        "\n",
        "        # Total correct predictions\n",
        "        if torch.cuda.is_available():\n",
        "          correct += (predicted.cpu() == labels.cpu()).sum() \n",
        "          #print('cuda', predicted)\n",
        "        else:\n",
        "          correct += (predicted == labels).sum()\n",
        "          #print('normal', predicted)\n",
        "\n",
        "      accuracy = 100 * correct.item() / total\n",
        "      # Print Loss\n",
        "      iteration_loss.append(loss.item())\n",
        "      print('Iteration: {}. Loss: {}. Accuracy: {}'.format(iter, loss.item(), accuracy))"
      ],
      "execution_count": null,
      "outputs": [
        {
          "output_type": "stream",
          "text": [
            "Iteration: 500. Loss: 1.3811017274856567. Accuracy: 40.47085201793722\n",
            "Iteration: 1000. Loss: 0.5458794832229614. Accuracy: 40.24663677130045\n",
            "Iteration: 1500. Loss: 0.005985880736261606. Accuracy: 40.24663677130045\n",
            "Iteration: 2000. Loss: 0.003634076565504074. Accuracy: 40.91928251121076\n",
            "Iteration: 2500. Loss: 0.0014266663929447532. Accuracy: 40.91928251121076\n"
          ],
          "name": "stdout"
        }
      ]
    },
    {
      "cell_type": "code",
      "metadata": {
        "colab": {
          "base_uri": "https://localhost:8080/",
          "height": 297
        },
        "id": "4BjCwraMlilT",
        "outputId": "228f3917-fa91-4c77-b642-60004a9efd69"
      },
      "source": [
        "print (iteration_loss)\n",
        "plt.plot(iteration_loss)\n",
        "plt.ylabel('Cross Entropy Loss')\n",
        "plt.xlabel('Iteration (in every 500)')\n",
        "plt.show()"
      ],
      "execution_count": null,
      "outputs": [
        {
          "output_type": "stream",
          "text": [
            "[1.3811017274856567, 0.5458794832229614, 0.005985880736261606, 0.003634076565504074, 0.0014266663929447532]\n"
          ],
          "name": "stdout"
        },
        {
          "output_type": "display_data",
          "data": {
            "image/png": "[encoded data removed]",
            "text/plain": [
              "<Figure size 432x288 with 1 Axes>"
            ]
          },
          "metadata": {
            "tags": [],
            "needs_background": "light"
          }
        }
      ]
    },
    {
      "cell_type": "code",
      "metadata": {
        "id": "EMOX1M0_fd19"
      },
      "source": [
        "def new_prediction(plot):\n",
        "  plot = custom_count_vectorizer.get_tensor(text)\n",
        "  plot = plot.view(-1, input_dim).to(device)\n",
        "  outputs = model(plot)\n",
        "  _, predicted = torch.max(outputs, 1)\n",
        "  return int(predicted)\n",
        "  \n",
        "def new_prediction_by_vector(vector):\n",
        "  plot = vector\n",
        "  plot = plot.view(-1, input_dim).to(device)\n",
        "  outputs = model(plot)\n",
        "  _, predicted = torch.max(outputs, 1)\n",
        "  return int(predicted)\n",
        "\n"
      ],
      "execution_count": null,
      "outputs": []
    },
    {
      "cell_type": "markdown",
      "metadata": {
        "id": "OwlHSQ8pIVI9"
      },
      "source": [
        "this is plto 1 - 3\n",
        "this is plot 2 - 4\n",
        "....\n",
        "this is plot 100 - 1\n",
        "\n",
        "\n",
        "\n",
        "     A-True A-False\n",
        "P-T    5      2\n",
        "P-F    3      7\n",
        "\n",
        "\n",
        "      g1    g2 g3...... g19\n",
        "p1   (22)  \n",
        "p2\n",
        "...\n",
        "\n",
        "\n",
        "p19\n",
        "\n"
      ]
    },
    {
      "cell_type": "code",
      "metadata": {
        "colab": {
          "base_uri": "https://localhost:8080/"
        },
        "id": "UBq-WNz7LK_M",
        "outputId": "28ffa157-2c43-4844-9905-82f8cd1331cb"
      },
      "source": [
        "out_true = []\n",
        "out_pred = []\n",
        "for plot in test_dataset:\n",
        "  pred = new_prediction_by_vector(plot[0])\n",
        "  out_true.append(plot[1])\n",
        "  out_pred.append(pred)\n",
        "\n",
        "cm = confusion_matrix(out_true, out_pred)\n",
        "print(cm)\n",
        "cr = classification_report(out_true, out_pred)\n",
        "print(cr)"
      ],
      "execution_count": null,
      "outputs": [
        {
          "output_type": "stream",
          "text": [
            "[[ 22   9   6   7   0   4   0   0   0   3   0   2   0   3   0   0]\n",
            " [ 17  94  12   4   1   9  14   0   0   1   0   2   0   2   0   0]\n",
            " [  5  24 116  15   7  63  19   0   0  10   2   5   0   1   0   0]\n",
            " [  8   5   2   7   1   3   4   0   0   1   1   0   0   1   0   0]\n",
            " [  0   2   8   1  11  20   8   0   0   0   0   1   0   0   0   0]\n",
            " [  1  17  35   7  11  77  11   0   0   4   0   4   0   5   0   0]\n",
            " [  1  11  13   3   0  10  26   0   0   2   0   0   0   1   0   0]\n",
            " [  0   0   0   1   0   2   1   0   0   0   0   1   0   0   0   0]\n",
            " [  0   0   0   0   0   2   0   0   0   0   0   0   0   1   0   0]\n",
            " [  0   0   2   0   0   1   0   0   0   1   0   0   0   0   0   0]\n",
            " [  1   0   1   0   0   0   0   0   0   0   0   0   0   0   0   0]\n",
            " [  0   1   4   2   8  12   0   0   0   0   0  10   0   2   0   0]\n",
            " [  0   1   0   1   0   0   0   0   0   0   0   0   0   0   0   0]\n",
            " [  0   3   2   6   0   3  10   0   0   1   0   1   0   6   0   0]\n",
            " [  0   0   1   0   0   0   0   0   0   1   0   0   0   0   0   0]\n",
            " [  0   0   0   0   0   0   0   0   1   0   0   0   0   0   0   0]]\n",
            "              precision    recall  f1-score   support\n",
            "\n",
            "           0       0.40      0.39      0.40        56\n",
            "           1       0.56      0.60      0.58       156\n",
            "           2       0.57      0.43      0.49       267\n",
            "           3       0.13      0.21      0.16        33\n",
            "           4       0.28      0.22      0.24        51\n",
            "           5       0.37      0.45      0.41       172\n",
            "           6       0.28      0.39      0.33        67\n",
            "           7       0.00      0.00      0.00         5\n",
            "           8       0.00      0.00      0.00         3\n",
            "           9       0.04      0.25      0.07         4\n",
            "          10       0.00      0.00      0.00         2\n",
            "          11       0.38      0.26      0.31        39\n",
            "          12       0.00      0.00      0.00         2\n",
            "          13       0.27      0.19      0.22        32\n",
            "          14       0.00      0.00      0.00         2\n",
            "          15       0.00      0.00      0.00         1\n",
            "\n",
            "    accuracy                           0.41       892\n",
            "   macro avg       0.21      0.21      0.20       892\n",
            "weighted avg       0.44      0.41      0.42       892\n",
            "\n"
          ],
          "name": "stdout"
        },
        {
          "output_type": "stream",
          "text": [
            "/usr/local/lib/python3.7/dist-packages/sklearn/metrics/_classification.py:1272: UndefinedMetricWarning: Precision and F-score are ill-defined and being set to 0.0 in labels with no predicted samples. Use `zero_division` parameter to control this behavior.\n",
            "  _warn_prf(average, modifier, msg_start, len(result))\n"
          ],
          "name": "stderr"
        }
      ]
    },
    {
      "cell_type": "markdown",
      "metadata": {
        "id": "QIyxBZU9bWPt"
      },
      "source": [
        "**TF-IDF + Logistic Regression**"
      ]
    },
    {
      "cell_type": "code",
      "metadata": {
        "id": "sXIbmYHWCMVr",
        "colab": {
          "base_uri": "https://localhost:8080/"
        },
        "outputId": "0959c076-f34c-4358-aaf1-f8171601c221"
      },
      "source": [
        "custom_count_vectorizer = Custom_Count_Vectorizer(corpus=corpus, corpus_label=corpus_label, vectorizer='TF-IDF')\n",
        "dataset = custom_count_vectorizer.get_dataset(shuffle=True)"
      ],
      "execution_count": null,
      "outputs": [
        {
          "output_type": "stream",
          "text": [
            "Using TF-IDF Vectorizer\n"
          ],
          "name": "stdout"
        }
      ]
    },
    {
      "cell_type": "code",
      "metadata": {
        "colab": {
          "base_uri": "https://localhost:8080/"
        },
        "id": "GEeZYznCAjAg",
        "outputId": "6fd55725-b135-4b80-c742-66028a81477b"
      },
      "source": [
        "train_cnt = int(80.0 * len(dataset) / 100.0)\n",
        "train_dataset = dataset[ : train_cnt]\n",
        "test_dataset = dataset[train_cnt : ]\n",
        "print('Train size =', len(train_dataset), '\\nTest size =', len(test_dataset))"
      ],
      "execution_count": null,
      "outputs": [
        {
          "output_type": "stream",
          "text": [
            "Train size = 3564 \n",
            "Test size = 892\n"
          ],
          "name": "stdout"
        }
      ]
    },
    {
      "cell_type": "code",
      "metadata": {
        "id": "3ynZfDfpAm58"
      },
      "source": [
        "# Hyperparameters\n",
        "batch_size = 80\n",
        "num_iters = 5000\n",
        "input_dim = len(dataset[0][0])\n",
        "output_dim = len(all_genres)\n",
        "learning_rate = 0.005\n",
        "\n",
        "# Device\n",
        "device = torch.device(\"cuda:0\" if torch.cuda.is_available() else \"cpu\")"
      ],
      "execution_count": null,
      "outputs": []
    },
    {
      "cell_type": "code",
      "metadata": {
        "colab": {
          "base_uri": "https://localhost:8080/"
        },
        "id": "v4U1axbEAoiW",
        "outputId": "39d9de1c-ce2a-42ec-abdf-eeafc70fe29f"
      },
      "source": [
        "num_epochs = num_iters / (len(train_dataset) / batch_size)\n",
        "num_epochs = int(num_epochs)\n",
        "\n",
        "train_loader = torch.utils.data.DataLoader(dataset=train_dataset, \n",
        "                                           batch_size=batch_size, \n",
        "                                           shuffle=True)   # It's better to shuffle the whole training dataset! \n",
        "\n",
        "test_loader = torch.utils.data.DataLoader(dataset=test_dataset, \n",
        "                                          batch_size=batch_size, \n",
        "                                          shuffle=False)  \n",
        "print(num_epochs)"
      ],
      "execution_count": null,
      "outputs": [
        {
          "output_type": "stream",
          "text": [
            "112\n"
          ],
          "name": "stdout"
        }
      ]
    },
    {
      "cell_type": "code",
      "metadata": {
        "id": "uoTmlhotArME"
      },
      "source": [
        "class LogisticRegressionModel(nn.Module):\n",
        "  def __init__(self, input_size, num_classes):\n",
        "    super().__init__()\n",
        "    self.linear = nn.Linear(input_size, num_classes)\n",
        "\n",
        "  def forward(self, x):\n",
        "    logits  = self.linear(x)\n",
        "    probas = F.softmax(logits, dim=1)\n",
        "    return logits, probas"
      ],
      "execution_count": null,
      "outputs": []
    },
    {
      "cell_type": "code",
      "metadata": {
        "colab": {
          "base_uri": "https://localhost:8080/"
        },
        "id": "Mknu-vYAAswl",
        "outputId": "7378f76f-6b84-4692-e2f0-44b9aaeac461"
      },
      "source": [
        "'''\n",
        "INSTANTIATE MODEL CLASS\n",
        "'''\n",
        "model = LogisticRegressionModel(input_size=input_dim,\n",
        "                                num_classes=output_dim)\n",
        "# To enable GPU\n",
        "model.to(device)"
      ],
      "execution_count": null,
      "outputs": [
        {
          "output_type": "execute_result",
          "data": {
            "text/plain": [
              "LogisticRegressionModel(\n",
              "  (linear): Linear(in_features=25769, out_features=19, bias=True)\n",
              ")"
            ]
          },
          "metadata": {
            "tags": []
          },
          "execution_count": 30
        }
      ]
    },
    {
      "cell_type": "code",
      "metadata": {
        "id": "Ve3SMq_rAu3m"
      },
      "source": [
        "# INSTANTIATE OPTIMIZER CLASS\n",
        "optimizer = torch.optim.Adam(model.parameters(), lr=learning_rate)"
      ],
      "execution_count": null,
      "outputs": []
    },
    {
      "cell_type": "code",
      "metadata": {
        "colab": {
          "base_uri": "https://localhost:8080/"
        },
        "id": "8NYMz4xkAwbz",
        "outputId": "d7108464-ff1d-480a-d58b-7f2f4a8e5ebe"
      },
      "source": [
        "'''\n",
        "TRAIN THE MODEL\n",
        "'''\n",
        "iteration_loss = []\n",
        "iter = 0\n",
        "for epoch in range(num_epochs):\n",
        "  for i, (plots, labels) in enumerate(train_loader):\n",
        "\n",
        "    plots = plots.view(-1, input_dim).to(device)\n",
        "    labels = labels.to(device)\n",
        "\n",
        "    # Clear gradients w.r.t. parameters\n",
        "    optimizer.zero_grad()\n",
        "\n",
        "    # Forward pass to get output/logits\n",
        "    logits, probas = model(plots) \n",
        "\n",
        "    # Calculate Loss: PyTorch implementation of CrossEntropyLoss works with logits, not probabilities\n",
        "    loss = F.cross_entropy(logits, labels)\n",
        "\n",
        "    # Getting gradients w.r.t. parameters\n",
        "    loss.backward()\n",
        "\n",
        "    # Updating parameters\n",
        "    optimizer.step()\n",
        "\n",
        "    iter += 1\n",
        "\n",
        "    if iter % 1000 == 0:\n",
        "      # Calculate Accuracy         \n",
        "      correct = 0\n",
        "      total = 0\n",
        "      # Iterate through test dataset\n",
        "      for plots, labels in test_loader:\n",
        "               \n",
        "        plots = plots.view(-1, input_dim).to(device)\n",
        "\n",
        "        # Forward pass only to get logits/output\n",
        "        logits, probas = model(plots)\n",
        "\n",
        "        # Get predictions from the maximum value\n",
        "        _, predicted = torch.max(probas, 1)\n",
        "\n",
        "        # Total number of labels\n",
        "        total += labels.size(0)\n",
        "\n",
        "\n",
        "        # Total correct predictions\n",
        "        if torch.cuda.is_available():\n",
        "          correct += (predicted.cpu() == labels.cpu()).sum() \n",
        "        else:\n",
        "          correct += (predicted == labels).sum()\n",
        "\n",
        "      accuracy = 100 * correct.item() / total\n",
        "\n",
        "      # Print Loss\n",
        "      iteration_loss.append(loss.item())\n",
        "      print('Iteration: {}. Loss: {}. Accuracy: {}'.format(iter, loss.item(), accuracy))\n",
        "print(\"done training\")"
      ],
      "execution_count": null,
      "outputs": [
        {
          "output_type": "stream",
          "text": [
            "Iteration: 1000. Loss: 0.21485742926597595. Accuracy: 47.75784753363229\n",
            "Iteration: 2000. Loss: 0.062126658856868744. Accuracy: 48.20627802690583\n",
            "Iteration: 3000. Loss: 0.02695108950138092. Accuracy: 47.98206278026906\n",
            "Iteration: 4000. Loss: 0.01451044250279665. Accuracy: 47.869955156950674\n",
            "Iteration: 5000. Loss: 0.009317545220255852. Accuracy: 47.98206278026906\n",
            "done training\n"
          ],
          "name": "stdout"
        }
      ]
    },
    {
      "cell_type": "code",
      "metadata": {
        "colab": {
          "base_uri": "https://localhost:8080/",
          "height": 297
        },
        "id": "AHdGyKaco8kx",
        "outputId": "27362c00-df51-4348-9a92-495cedbe7c2f"
      },
      "source": [
        "print (iteration_loss)\n",
        "plt.plot(iteration_loss)\n",
        "plt.ylabel('Cross Entropy Loss')\n",
        "plt.xlabel('Iteration (in every 500)')\n",
        "plt.show()"
      ],
      "execution_count": null,
      "outputs": [
        {
          "output_type": "stream",
          "text": [
            "[0.21485742926597595, 0.062126658856868744, 0.02695108950138092, 0.01451044250279665, 0.009317545220255852]\n"
          ],
          "name": "stdout"
        },
        {
          "output_type": "display_data",
          "data": {
            "image/png": "[encoded data removed]",
            "text/plain": [
              "<Figure size 432x288 with 1 Axes>"
            ]
          },
          "metadata": {
            "tags": [],
            "needs_background": "light"
          }
        }
      ]
    },
    {
      "cell_type": "code",
      "metadata": {
        "id": "BsxDY7WGNEW4"
      },
      "source": [
        "def new_prediction_lg(plot):\n",
        "  plot = custom_count_vectorizer.get_tensor(text)\n",
        "  plots = plot.view(-1, input_dim).to(device)\n",
        "  logits, probas = model(plots)\n",
        "  _, predicted = torch.max(probas, 1)\n",
        "  return int(predicted)\n",
        "  \n",
        "def new_prediction_by_vector_lg(vector):\n",
        "  plot = vector\n",
        "  plot = plot.view(-1, input_dim).to(device)\n",
        "  logits, probas = model(plot)\n",
        "  _, predicted = torch.max(probas, 1)\n",
        "  return int(predicted)"
      ],
      "execution_count": null,
      "outputs": []
    },
    {
      "cell_type": "code",
      "metadata": {
        "colab": {
          "base_uri": "https://localhost:8080/"
        },
        "id": "0nvHPQz9ZrTS",
        "outputId": "21042bd2-5ed1-43a1-87cd-f4e7a5bfb1ef"
      },
      "source": [
        "out_true = []\n",
        "out_pred = []\n",
        "for plot in test_dataset:\n",
        "  pred = new_prediction_by_vector_lg(plot[0])\n",
        "  out_true.append(plot[1])\n",
        "  out_pred.append(pred)\n",
        "\n",
        "cm = confusion_matrix(out_true, out_pred)\n",
        "print(cm)\n",
        "cr = classification_report(out_true, out_pred)\n",
        "print(cr)"
      ],
      "execution_count": null,
      "outputs": [
        {
          "output_type": "stream",
          "text": [
            "[[ 12  18  14   2   0   4   0   0   0   0   0   0   0   0   0   0   0   0]\n",
            " [  4 113  28   1   0  12   8   0   0   0   0   2   0   0   0   0   0   0]\n",
            " [  4  12 180   0   1  46   5   0   0   0   0   3   0   1   0   0   0   0]\n",
            " [  1   8  18   7   0   7   2   0   0   0   0   0   0   0   0   0   0   0]\n",
            " [  0   2  16   0   2  17   2   0   0   0   0   2   0   0   0   0   0   0]\n",
            " [  2  14  64   2   0  79   1   0   0   0   0   1   0   3   0   0   0   0]\n",
            " [  0  19  24   0   0  19   8   0   0   0   0   0   0   0   0   0   0   0]\n",
            " [  1   2   0   0   0   1   0   0   0   0   0   0   0   0   0   0   0   0]\n",
            " [  0   1   0   0   0   0   1   0   0   0   0   0   0   0   0   0   0   0]\n",
            " [  0   1   3   0   0   3   0   0   0   0   0   0   0   0   0   0   0   0]\n",
            " [  0   2   3   0   0   0   0   0   0   0   0   0   0   0   0   0   0   0]\n",
            " [  2   2  15   1   0   8   1   0   0   0   0  22   0   0   0   0   0   0]\n",
            " [  0   0   2   0   0   0   1   0   0   0   0   0   0   0   0   0   0   0]\n",
            " [  1   6   7   0   0   5   1   0   0   0   0   0   0   4   0   0   0   0]\n",
            " [  0   1   2   0   0   0   0   0   0   0   0   0   0   0   0   0   0   0]\n",
            " [  0   0   1   0   0   0   0   0   0   0   0   0   0   0   0   0   0   0]\n",
            " [  0   0   0   0   0   1   0   0   0   0   0   0   0   0   0   0   0   0]\n",
            " [  0   0   0   0   0   1   0   0   0   0   0   0   0   0   0   0   0   0]]\n",
            "              precision    recall  f1-score   support\n",
            "\n",
            "           0       0.44      0.24      0.31        50\n",
            "           1       0.56      0.67      0.61       168\n",
            "           2       0.48      0.71      0.57       252\n",
            "           3       0.54      0.16      0.25        43\n",
            "           4       0.67      0.05      0.09        41\n",
            "           5       0.39      0.48      0.43       166\n",
            "           6       0.27      0.11      0.16        70\n",
            "           7       0.00      0.00      0.00         4\n",
            "           8       0.00      0.00      0.00         2\n",
            "           9       0.00      0.00      0.00         7\n",
            "          10       0.00      0.00      0.00         5\n",
            "          11       0.73      0.43      0.54        51\n",
            "          12       0.00      0.00      0.00         3\n",
            "          13       0.50      0.17      0.25        24\n",
            "          14       0.00      0.00      0.00         3\n",
            "          15       0.00      0.00      0.00         1\n",
            "          16       0.00      0.00      0.00         1\n",
            "          18       0.00      0.00      0.00         1\n",
            "\n",
            "    accuracy                           0.48       892\n",
            "   macro avg       0.25      0.17      0.18       892\n",
            "weighted avg       0.47      0.48      0.44       892\n",
            "\n"
          ],
          "name": "stdout"
        },
        {
          "output_type": "stream",
          "text": [
            "/usr/local/lib/python3.7/dist-packages/sklearn/metrics/_classification.py:1272: UndefinedMetricWarning: Precision and F-score are ill-defined and being set to 0.0 in labels with no predicted samples. Use `zero_division` parameter to control this behavior.\n",
            "  _warn_prf(average, modifier, msg_start, len(result))\n"
          ],
          "name": "stderr"
        }
      ]
    },
    {
      "cell_type": "markdown",
      "metadata": {
        "id": "BTczaPvZpnuX"
      },
      "source": [
        "**Binary Count + Deep Neural Netword**"
      ]
    },
    {
      "cell_type": "code",
      "metadata": {
        "colab": {
          "base_uri": "https://localhost:8080/"
        },
        "id": "36DZm1nppqdc",
        "outputId": "2ea1a0e2-d537-40ce-81ac-fb1b0be8b3a3"
      },
      "source": [
        "custom_count_vectorizer = Custom_Count_Vectorizer(corpus=corpus, corpus_label=corpus_label, vectorizer='COUNT-B')\n",
        "dataset = custom_count_vectorizer.get_dataset(shuffle = True)"
      ],
      "execution_count": null,
      "outputs": [
        {
          "output_type": "stream",
          "text": [
            "Using Binary Count Vectorizer\n"
          ],
          "name": "stdout"
        }
      ]
    },
    {
      "cell_type": "code",
      "metadata": {
        "colab": {
          "base_uri": "https://localhost:8080/"
        },
        "id": "32_ZQuzRpwEl",
        "outputId": "0b5236bf-8b48-4a8d-a35d-7b56f76ee11c"
      },
      "source": [
        "train_cnt = int(80.0 * len(dataset) / 100.0)\n",
        "train_dataset = dataset[ : train_cnt]\n",
        "test_dataset = dataset[train_cnt : ]\n",
        "print('Train size =', len(train_dataset), '\\nTest size =', len(test_dataset))"
      ],
      "execution_count": null,
      "outputs": [
        {
          "output_type": "stream",
          "text": [
            "Train size = 3564 \n",
            "Test size = 892\n"
          ],
          "name": "stdout"
        }
      ]
    },
    {
      "cell_type": "code",
      "metadata": {
        "id": "XbuLDvdkp1n8"
      },
      "source": [
        "# Hyperparameters\n",
        "batch_size = 10\n",
        "num_iters = 3000\n",
        "input_dim = len(dataset[0][0])\n",
        "output_dim = len(all_genres)\n",
        "learning_rate = 0.001\n",
        "\n",
        "# Device\n",
        "device = torch.device(\"cuda:0\" if torch.cuda.is_available() else \"cpu\")"
      ],
      "execution_count": null,
      "outputs": []
    },
    {
      "cell_type": "code",
      "metadata": {
        "colab": {
          "base_uri": "https://localhost:8080/"
        },
        "id": "gPAb2Wjbp5yc",
        "outputId": "d521419e-c125-4344-ba4a-c58ba6d956aa"
      },
      "source": [
        "num_epochs = num_iters / (len(train_dataset) / batch_size)\n",
        "num_epochs = int(num_epochs)\n",
        "\n",
        "train_loader = torch.utils.data.DataLoader(dataset=train_dataset, \n",
        "                                           batch_size=batch_size, \n",
        "                                           shuffle=True)   # It's better to shuffle the whole training dataset! \n",
        "\n",
        "test_loader = torch.utils.data.DataLoader(dataset=test_dataset, \n",
        "                                          batch_size=batch_size, \n",
        "                                          shuffle=False)  \n",
        "print(num_epochs)"
      ],
      "execution_count": null,
      "outputs": [
        {
          "output_type": "stream",
          "text": [
            "8\n"
          ],
          "name": "stdout"
        }
      ]
    },
    {
      "cell_type": "code",
      "metadata": {
        "id": "h6FJkjxap9MH"
      },
      "source": [
        "class DeepNeuralNetworkModel(nn.Module):\n",
        "  def __init__(self, input_size, num_classes, num_hidden_1, num_hidden_2, num_hidden_3):\n",
        "    super().__init__()\n",
        "    ### 1st hidden layer: 784 --> 100\n",
        "    self.linear_1 = nn.Linear(input_size, num_hidden_1)\n",
        "    ### Non-linearity in 1st hidden layer\n",
        "    self.relu_1 = nn.ReLU6()\n",
        "\n",
        "    ### 2nd hidden layer: 100 --> 100\n",
        "    self.linear_2 = nn.Linear(num_hidden_1, num_hidden_2)\n",
        "    ### Non-linearity in 2nd hidden layer\n",
        "    self.relu_2 = nn.ReLU6()\n",
        "\n",
        "    self.linear_3 = nn.Linear(num_hidden_2, num_hidden_3)\n",
        "    ### Non-linearity in 2nd hidden layer\n",
        "    self.relu_3 = nn.ReLU6()\n",
        "\n",
        "    ### Output layer: 100 --> 10\n",
        "    self.linear_out = nn.Linear(num_hidden_3, num_classes)\n",
        "\n",
        "  def forward(self, x):\n",
        "    ### 1st hidden layer\n",
        "    out  = self.linear_1(x)\n",
        "    ### Non-linearity in 1st hidden layer\n",
        "    out = self.relu_1(out)\n",
        "    \n",
        "    ### 2nd hidden layer\n",
        "    out  = self.linear_2(out)\n",
        "    ### Non-linearity in 2nd hidden layer\n",
        "    out = self.relu_2(out)\n",
        "    \n",
        "    ### 2nd hidden layer\n",
        "    out  = self.linear_3(out)\n",
        "    ### Non-linearity in 2nd hidden layer\n",
        "    out = self.relu_3(out)\n",
        "\n",
        "    # Linear layer (output)\n",
        "    probas  = self.linear_out(out)\n",
        "    return probas"
      ],
      "execution_count": null,
      "outputs": []
    },
    {
      "cell_type": "code",
      "metadata": {
        "colab": {
          "base_uri": "https://localhost:8080/"
        },
        "id": "-jb5k18BqAgC",
        "outputId": "dc5ef83c-18dd-4de0-d658-f959bb8253e8"
      },
      "source": [
        "model = DeepNeuralNetworkModel(input_size = input_dim,\n",
        "                               num_classes = output_dim,\n",
        "                               num_hidden_1 = 512, num_hidden_2 = 256, num_hidden_3 = 64)\n",
        "# To enable GPU\n",
        "model.to(device)"
      ],
      "execution_count": null,
      "outputs": [
        {
          "output_type": "execute_result",
          "data": {
            "text/plain": [
              "DeepNeuralNetworkModel(\n",
              "  (linear_1): Linear(in_features=25769, out_features=512, bias=True)\n",
              "  (relu_1): ReLU6()\n",
              "  (linear_2): Linear(in_features=512, out_features=256, bias=True)\n",
              "  (relu_2): ReLU6()\n",
              "  (linear_3): Linear(in_features=256, out_features=64, bias=True)\n",
              "  (relu_3): ReLU6()\n",
              "  (linear_out): Linear(in_features=64, out_features=19, bias=True)\n",
              ")"
            ]
          },
          "metadata": {
            "tags": []
          },
          "execution_count": 42
        }
      ]
    },
    {
      "cell_type": "code",
      "metadata": {
        "id": "l58ekLP8qDME"
      },
      "source": [
        "# INSTANTIATE OPTIMIZER CLASS\n",
        "optimizer = torch.optim.Adam(model.parameters(), lr=learning_rate)\n",
        "criterion = nn.CrossEntropyLoss()"
      ],
      "execution_count": null,
      "outputs": []
    },
    {
      "cell_type": "code",
      "metadata": {
        "colab": {
          "base_uri": "https://localhost:8080/"
        },
        "id": "lF-H1_dfqFm-",
        "outputId": "31b46ead-d396-4d65-dc16-5b4388be58da"
      },
      "source": [
        "iteration_loss = []\n",
        "iter = 0\n",
        "for epoch in range(num_epochs):\n",
        "  for i, (plots, labels) in enumerate(train_loader):\n",
        "\n",
        "    plots = plots.view(-1, input_dim).to(device)\n",
        "    labels = labels.to(device)\n",
        "\n",
        "    # Clear gradients w.r.t. parameters\n",
        "    optimizer.zero_grad()\n",
        "\n",
        "    # Forward pass to get output/logits\n",
        "    outputs = model(plots) \n",
        "    \n",
        "    # Calculate Loss: softmax --> cross entropy loss\n",
        "    loss = criterion(outputs, labels)\n",
        "\n",
        "    # Getting gradients w.r.t. parameters\n",
        "    loss.backward()\n",
        "\n",
        "    # Updating parameters\n",
        "    optimizer.step()\n",
        "\n",
        "    iter += 1\n",
        "\n",
        "    if iter % 500 == 0:\n",
        "      # Calculate Accuracy         \n",
        "      correct = 0\n",
        "      total = 0\n",
        "      # Iterate through test dataset\n",
        "      for plots, labels in test_loader:\n",
        "               \n",
        "        plots = plots.view(-1, input_dim).to(device)\n",
        "\n",
        "        # Forward pass only to get logits/output\n",
        "        outputs = model(plots)\n",
        "\n",
        "        # Get predictions from the maximum value\n",
        "        _, predicted = torch.max(outputs, 1)\n",
        "\n",
        "        # Total number of labels\n",
        "        total += labels.size(0)\n",
        "\n",
        "\n",
        "        # Total correct predictions\n",
        "        if torch.cuda.is_available():\n",
        "          correct += (predicted.cpu() == labels.cpu()).sum() \n",
        "          #print('cuda', predicted)\n",
        "        else:\n",
        "          correct += (predicted == labels).sum()\n",
        "          #print('normal', predicted)\n",
        "\n",
        "      accuracy = 100 * correct.item() / total\n",
        "      # Print Loss\n",
        "      iteration_loss.append(loss.item())\n",
        "      print('Iteration: {}. Loss: {}. Accuracy: {}'.format(iter, loss.item(), accuracy))"
      ],
      "execution_count": null,
      "outputs": [
        {
          "output_type": "stream",
          "text": [
            "Iteration: 500. Loss: 1.0747209787368774. Accuracy: 45.17937219730942\n",
            "Iteration: 1000. Loss: 0.09392751753330231. Accuracy: 46.412556053811656\n",
            "Iteration: 1500. Loss: 0.0029423306696116924. Accuracy: 45.403587443946186\n",
            "Iteration: 2000. Loss: 0.0008231018437072635. Accuracy: 44.73094170403587\n",
            "Iteration: 2500. Loss: 0.0012612866703420877. Accuracy: 45.62780269058296\n"
          ],
          "name": "stdout"
        }
      ]
    },
    {
      "cell_type": "code",
      "metadata": {
        "colab": {
          "base_uri": "https://localhost:8080/",
          "height": 297
        },
        "id": "VOVFoK7jqJbi",
        "outputId": "f26ac3ec-a207-4db0-8d56-e1592ebacb0d"
      },
      "source": [
        "print (iteration_loss)\n",
        "plt.plot(iteration_loss)\n",
        "plt.ylabel('Cross Entropy Loss')\n",
        "plt.xlabel('Iteration (in every 500)')\n",
        "plt.show()"
      ],
      "execution_count": null,
      "outputs": [
        {
          "output_type": "stream",
          "text": [
            "[1.0747209787368774, 0.09392751753330231, 0.0029423306696116924, 0.0008231018437072635, 0.0012612866703420877]\n"
          ],
          "name": "stdout"
        },
        {
          "output_type": "display_data",
          "data": {
            "image/png": "[encoded data removed]",
            "text/plain": [
              "<Figure size 432x288 with 1 Axes>"
            ]
          },
          "metadata": {
            "tags": [],
            "needs_background": "light"
          }
        }
      ]
    },
    {
      "cell_type": "code",
      "metadata": {
        "id": "7XLicvDhqNb6"
      },
      "source": [
        "def new_prediction(plot):\n",
        "  plot = custom_count_vectorizer.get_tensor(text)\n",
        "  plot = plot.view(-1, input_dim).to(device)\n",
        "  outputs = model(plot)\n",
        "  _, predicted = torch.max(outputs, 1)\n",
        "  return int(predicted)\n",
        "  \n",
        "def new_prediction_by_vector(vector):\n",
        "  plot = vector\n",
        "  plot = plot.view(-1, input_dim).to(device)\n",
        "  outputs = model(plot)\n",
        "  _, predicted = torch.max(outputs, 1)\n",
        "  return int(predicted)"
      ],
      "execution_count": null,
      "outputs": []
    },
    {
      "cell_type": "code",
      "metadata": {
        "colab": {
          "base_uri": "https://localhost:8080/"
        },
        "id": "eYuDW7A0qUeJ",
        "outputId": "a05ddcff-153f-4ac5-dfaf-862984b1d9fa"
      },
      "source": [
        "out_true = []\n",
        "out_pred = []\n",
        "for plot in test_dataset:\n",
        "  pred = new_prediction_by_vector(plot[0])\n",
        "  out_true.append(plot[1])\n",
        "  out_pred.append(pred)\n",
        "\n",
        "cm = confusion_matrix(out_true, out_pred)\n",
        "print(cm)\n",
        "cr = classification_report(out_true, out_pred)\n",
        "print(cr)"
      ],
      "execution_count": null,
      "outputs": [
        {
          "output_type": "stream",
          "text": [
            "[[ 12  11  16  11   2   3   1   0   0   0   0   0   0   2   0   0   0]\n",
            " [  5  87  20   4   2   6  12   1   0   0   0   1   0   6   0   0   0]\n",
            " [  3  15 183   5   1  54  17   0   0   4   0   0   0   5   0   0   0]\n",
            " [  0   7   7  15   2   6   2   0   0   0   0   0   0   0   0   0   0]\n",
            " [  1   1   7   2   7  13   0   0   0   1   0   1   0   0   0   0   0]\n",
            " [  1  18  56  10   8  56   3   0   0   2   0   1   0   2   0   1   0]\n",
            " [  1  14  24   3   1   5  16   1   1   0   0   1   0   2   0   0   0]\n",
            " [  0   4   4   0   0   0   0   1   0   0   0   0   0   1   0   0   0]\n",
            " [  0   0   0   2   0   4   0   0   0   0   0   0   0   0   0   1   0]\n",
            " [  0   0   1   1   0   1   0   0   0   0   0   0   0   0   0   0   0]\n",
            " [  1   0   0   0   0   1   0   0   0   0   0   0   0   0   0   0   0]\n",
            " [  1   3   8   0   4   8   0   0   0   0   0  21   0   1   0   0   0]\n",
            " [  1   0   2   0   0   1   0   0   0   0   0   0   0   0   0   0   0]\n",
            " [  0   2   4   3   0   7   1   1   1   0   0   0   0   9   0   1   0]\n",
            " [  0   0   0   0   0   0   1   0   0   0   0   0   0   0   0   0   0]\n",
            " [  0   0   0   0   0   0   0   1   0   0   0   0   0   0   0   0   0]\n",
            " [  0   0   1   0   0   0   0   0   0   0   0   0   0   0   0   0   0]]\n",
            "              precision    recall  f1-score   support\n",
            "\n",
            "           0       0.46      0.21      0.29        58\n",
            "           1       0.54      0.60      0.57       144\n",
            "           2       0.55      0.64      0.59       287\n",
            "           3       0.27      0.38      0.32        39\n",
            "           4       0.26      0.21      0.23        33\n",
            "           5       0.34      0.35      0.35       158\n",
            "           6       0.30      0.23      0.26        69\n",
            "           7       0.20      0.10      0.13        10\n",
            "           8       0.00      0.00      0.00         7\n",
            "           9       0.00      0.00      0.00         3\n",
            "          10       0.00      0.00      0.00         2\n",
            "          11       0.84      0.46      0.59        46\n",
            "          12       0.00      0.00      0.00         4\n",
            "          13       0.32      0.31      0.32        29\n",
            "          14       0.00      0.00      0.00         1\n",
            "          15       0.00      0.00      0.00         1\n",
            "          18       0.00      0.00      0.00         1\n",
            "\n",
            "    accuracy                           0.46       892\n",
            "   macro avg       0.24      0.21      0.21       892\n",
            "weighted avg       0.45      0.46      0.45       892\n",
            "\n"
          ],
          "name": "stdout"
        },
        {
          "output_type": "stream",
          "text": [
            "/usr/local/lib/python3.7/dist-packages/sklearn/metrics/_classification.py:1272: UndefinedMetricWarning: Precision and F-score are ill-defined and being set to 0.0 in labels with no predicted samples. Use `zero_division` parameter to control this behavior.\n",
            "  _warn_prf(average, modifier, msg_start, len(result))\n"
          ],
          "name": "stderr"
        }
      ]
    },
    {
      "cell_type": "markdown",
      "metadata": {
        "id": "oxLbnguFrKc9"
      },
      "source": [
        "**Binary Count + Logistic Regression**"
      ]
    },
    {
      "cell_type": "code",
      "metadata": {
        "colab": {
          "base_uri": "https://localhost:8080/"
        },
        "id": "EFIlZ4CnrNm6",
        "outputId": "bcc023dd-90b0-4acb-9d98-93e4dacc0aa8"
      },
      "source": [
        "custom_count_vectorizer = Custom_Count_Vectorizer(corpus=corpus, corpus_label=corpus_label, vectorizer='COUNT-B')\n",
        "dataset = custom_count_vectorizer.get_dataset(shuffle=True)"
      ],
      "execution_count": null,
      "outputs": [
        {
          "output_type": "stream",
          "text": [
            "Using Binary Count Vectorizer\n"
          ],
          "name": "stdout"
        }
      ]
    },
    {
      "cell_type": "code",
      "metadata": {
        "colab": {
          "base_uri": "https://localhost:8080/"
        },
        "id": "DPh9dtFrt8Pi",
        "outputId": "e652e666-f107-46cd-887d-c3bc249c3cde"
      },
      "source": [
        "train_cnt = int(80.0 * len(dataset) / 100.0)\n",
        "train_dataset = dataset[ : train_cnt]\n",
        "test_dataset = dataset[train_cnt : ]\n",
        "print('Train size =', len(train_dataset), '\\nTest size =', len(test_dataset))"
      ],
      "execution_count": null,
      "outputs": [
        {
          "output_type": "stream",
          "text": [
            "Train size = 3564 \n",
            "Test size = 892\n"
          ],
          "name": "stdout"
        }
      ]
    },
    {
      "cell_type": "code",
      "metadata": {
        "id": "E8f2yxryuC0Q"
      },
      "source": [
        "# Hyperparameters\n",
        "batch_size = 80\n",
        "num_iters = 5000\n",
        "input_dim = len(dataset[0][0])\n",
        "output_dim = len(all_genres)\n",
        "learning_rate = 0.005\n",
        "\n",
        "# Device\n",
        "device = torch.device(\"cuda:0\" if torch.cuda.is_available() else \"cpu\")"
      ],
      "execution_count": null,
      "outputs": []
    },
    {
      "cell_type": "code",
      "metadata": {
        "colab": {
          "base_uri": "https://localhost:8080/"
        },
        "id": "8AKIl9_YuGOr",
        "outputId": "418bdc35-30b6-41fd-fdb4-404aeafc0f9d"
      },
      "source": [
        "num_epochs = num_iters / (len(train_dataset) / batch_size)\n",
        "num_epochs = int(num_epochs)\n",
        "\n",
        "train_loader = torch.utils.data.DataLoader(dataset=train_dataset, \n",
        "                                           batch_size=batch_size, \n",
        "                                           shuffle=True)   # It's better to shuffle the whole training dataset! \n",
        "\n",
        "test_loader = torch.utils.data.DataLoader(dataset=test_dataset, \n",
        "                                          batch_size=batch_size, \n",
        "                                          shuffle=False)  \n",
        "print(num_epochs)"
      ],
      "execution_count": null,
      "outputs": [
        {
          "output_type": "stream",
          "text": [
            "112\n"
          ],
          "name": "stdout"
        }
      ]
    },
    {
      "cell_type": "code",
      "metadata": {
        "id": "6JLXJSqcuL70"
      },
      "source": [
        "class LogisticRegressionModel(nn.Module):\n",
        "  def __init__(self, input_size, num_classes):\n",
        "    super().__init__()\n",
        "    self.linear = nn.Linear(input_size, num_classes)\n",
        "\n",
        "  def forward(self, x):\n",
        "    logits  = self.linear(x)\n",
        "    probas = F.softmax(logits, dim=1)\n",
        "    return logits, probas"
      ],
      "execution_count": null,
      "outputs": []
    },
    {
      "cell_type": "code",
      "metadata": {
        "colab": {
          "base_uri": "https://localhost:8080/"
        },
        "id": "9qs7gekmuQEU",
        "outputId": "2a084975-1ac9-4169-9cbf-ee7a0e9b59a1"
      },
      "source": [
        "'''\n",
        "INSTANTIATE MODEL CLASS\n",
        "'''\n",
        "model = LogisticRegressionModel(input_size=input_dim,\n",
        "                                num_classes=output_dim)\n",
        "# To enable GPU\n",
        "model.to(device)"
      ],
      "execution_count": null,
      "outputs": [
        {
          "output_type": "execute_result",
          "data": {
            "text/plain": [
              "LogisticRegressionModel(\n",
              "  (linear): Linear(in_features=25769, out_features=19, bias=True)\n",
              ")"
            ]
          },
          "metadata": {
            "tags": []
          },
          "execution_count": 53
        }
      ]
    },
    {
      "cell_type": "code",
      "metadata": {
        "id": "t_cTNlIPuVOl"
      },
      "source": [
        "# INSTANTIATE OPTIMIZER CLASS\n",
        "optimizer = torch.optim.Adam(model.parameters(), lr=learning_rate)"
      ],
      "execution_count": null,
      "outputs": []
    },
    {
      "cell_type": "code",
      "metadata": {
        "colab": {
          "base_uri": "https://localhost:8080/"
        },
        "id": "0sQSqv_GuZNU",
        "outputId": "57a36763-f16a-4592-fcad-de3f56c092ed"
      },
      "source": [
        "'''\n",
        "TRAIN THE MODEL\n",
        "'''\n",
        "iteration_loss = []\n",
        "iter = 0\n",
        "for epoch in range(num_epochs):\n",
        "  for i, (plots, labels) in enumerate(train_loader):\n",
        "\n",
        "    plots = plots.view(-1, input_dim).to(device)\n",
        "    labels = labels.to(device)\n",
        "\n",
        "    # Clear gradients w.r.t. parameters\n",
        "    optimizer.zero_grad()\n",
        "\n",
        "    # Forward pass to get output/logits\n",
        "    logits, probas = model(plots) \n",
        "\n",
        "    # Calculate Loss: PyTorch implementation of CrossEntropyLoss works with logits, not probabilities\n",
        "    loss = F.cross_entropy(logits, labels)\n",
        "\n",
        "    # Getting gradients w.r.t. parameters\n",
        "    loss.backward()\n",
        "\n",
        "    # Updating parameters\n",
        "    optimizer.step()\n",
        "\n",
        "    iter += 1\n",
        "\n",
        "    if iter % 1000 == 0:\n",
        "      # Calculate Accuracy         \n",
        "      correct = 0\n",
        "      total = 0\n",
        "      # Iterate through test dataset\n",
        "      for plots, labels in test_loader:\n",
        "               \n",
        "        plots = plots.view(-1, input_dim).to(device)\n",
        "\n",
        "        # Forward pass only to get logits/output\n",
        "        logits, probas = model(plots)\n",
        "\n",
        "        # Get predictions from the maximum value\n",
        "        _, predicted = torch.max(probas, 1)\n",
        "\n",
        "        # Total number of labels\n",
        "        total += labels.size(0)\n",
        "\n",
        "\n",
        "        # Total correct predictions\n",
        "        if torch.cuda.is_available():\n",
        "          correct += (predicted.cpu() == labels.cpu()).sum() \n",
        "        else:\n",
        "          correct += (predicted == labels).sum()\n",
        "\n",
        "      accuracy = 100 * correct.item() / total\n",
        "\n",
        "      # Print Loss\n",
        "      iteration_loss.append(loss.item())\n",
        "      print('Iteration: {}. Loss: {}. Accuracy: {}'.format(iter, loss.item(), accuracy))\n",
        "print(\"done training\")"
      ],
      "execution_count": null,
      "outputs": [
        {
          "output_type": "stream",
          "text": [
            "Iteration: 1000. Loss: 0.026705574244260788. Accuracy: 47.19730941704036\n",
            "Iteration: 2000. Loss: 0.006923383567482233. Accuracy: 46.74887892376682\n",
            "Iteration: 3000. Loss: 0.0029147928580641747. Accuracy: 46.300448430493276\n",
            "Iteration: 4000. Loss: 0.0019003761699423194. Accuracy: 45.964125560538115\n",
            "Iteration: 5000. Loss: 0.0007728305063210428. Accuracy: 45.85201793721973\n",
            "done training\n"
          ],
          "name": "stdout"
        }
      ]
    },
    {
      "cell_type": "code",
      "metadata": {
        "colab": {
          "base_uri": "https://localhost:8080/",
          "height": 297
        },
        "id": "CJJm9vy_uijf",
        "outputId": "a5bf6656-82ef-4af2-d926-d14fd3a4c625"
      },
      "source": [
        "print (iteration_loss)\n",
        "plt.plot(iteration_loss)\n",
        "plt.ylabel('Cross Entropy Loss')\n",
        "plt.xlabel('Iteration (in every 500)')\n",
        "plt.show()"
      ],
      "execution_count": null,
      "outputs": [
        {
          "output_type": "stream",
          "text": [
            "[0.026705574244260788, 0.006923383567482233, 0.0029147928580641747, 0.0019003761699423194, 0.0007728305063210428]\n"
          ],
          "name": "stdout"
        },
        {
          "output_type": "display_data",
          "data": {
            "image/png": "[encoded data removed]",
            "text/plain": [
              "<Figure size 432x288 with 1 Axes>"
            ]
          },
          "metadata": {
            "tags": [],
            "needs_background": "light"
          }
        }
      ]
    },
    {
      "cell_type": "code",
      "metadata": {
        "id": "7hRK_q_qudXj"
      },
      "source": [
        "def new_prediction_lg(plot):\n",
        "  plot = custom_count_vectorizer.get_tensor(text)\n",
        "  plots = plot.view(-1, input_dim).to(device)\n",
        "  logits, probas = model(plots)\n",
        "  _, predicted = torch.max(probas, 1)\n",
        "  return int(predicted)\n",
        "  \n",
        "def new_prediction_by_vector_lg(vector):\n",
        "  plot = vector\n",
        "  plot = plot.view(-1, input_dim).to(device)\n",
        "  logits, probas = model(plot)\n",
        "  _, predicted = torch.max(probas, 1)\n",
        "  return int(predicted)"
      ],
      "execution_count": null,
      "outputs": []
    },
    {
      "cell_type": "code",
      "metadata": {
        "colab": {
          "base_uri": "https://localhost:8080/"
        },
        "id": "nV6DT2YDunfW",
        "outputId": "642237b9-2ccc-4cd1-fefc-55453d10278b"
      },
      "source": [
        "out_true = []\n",
        "out_pred = []\n",
        "for plot in test_dataset:\n",
        "  pred = new_prediction_by_vector_lg(plot[0])\n",
        "  out_true.append(plot[1])\n",
        "  out_pred.append(pred)\n",
        "\n",
        "cm = confusion_matrix(out_true, out_pred)\n",
        "print(cm)\n",
        "cr = classification_report(out_true, out_pred)\n",
        "print(cr)"
      ],
      "execution_count": null,
      "outputs": [
        {
          "output_type": "stream",
          "text": [
            "[[ 15  12  10   0   0   7   0   0   0   0   0   1   0   0   0   0]\n",
            " [ 10  88  26   4   0  16  11   0   0   0   0   0   0   0   0   0]\n",
            " [  1  15 182   2   1  53  10   0   0   0   0   7   0   0   0   0]\n",
            " [  3  15  15   8   0   7   2   0   0   0   0   1   0   0   0   0]\n",
            " [  0   0  19   0   4  11   1   0   0   0   0   2   0   0   0   0]\n",
            " [  2  23  67   0   0  79   6   0   0   0   0   0   0   1   0   0]\n",
            " [  0  12  17   0   1  17  12   0   0   0   0   0   0   0   0   0]\n",
            " [  1   2   1   0   0   2   1   0   0   0   0   0   0   0   0   0]\n",
            " [  0   2   1   0   0   2   2   0   0   0   0   0   0   0   0   0]\n",
            " [  0   0   3   0   0   2   1   0   0   0   0   0   0   0   0   0]\n",
            " [  0   1   0   0   0   1   0   0   0   0   0   0   0   0   0   0]\n",
            " [  0   2   7   0   1   6   1   0   0   0   0  20   0   0   0   0]\n",
            " [  0   0   1   0   0   1   0   0   0   0   0   0   0   0   0   0]\n",
            " [  1   9   6   0   0  10   3   0   0   0   0   1   0   2   0   0]\n",
            " [  0   0   1   0   0   0   1   0   0   0   0   0   0   0   0   0]\n",
            " [  0   0   0   0   0   1   0   0   0   0   0   0   0   0   0   0]]\n",
            "              precision    recall  f1-score   support\n",
            "\n",
            "           0       0.45      0.33      0.38        45\n",
            "           1       0.49      0.57      0.52       155\n",
            "           2       0.51      0.67      0.58       271\n",
            "           3       0.57      0.16      0.25        51\n",
            "           4       0.57      0.11      0.18        37\n",
            "           5       0.37      0.44      0.40       178\n",
            "           6       0.24      0.20      0.22        59\n",
            "           7       0.00      0.00      0.00         7\n",
            "           8       0.00      0.00      0.00         7\n",
            "           9       0.00      0.00      0.00         6\n",
            "          10       0.00      0.00      0.00         2\n",
            "          11       0.62      0.54      0.58        37\n",
            "          12       0.00      0.00      0.00         2\n",
            "          13       0.67      0.06      0.11        32\n",
            "          14       0.00      0.00      0.00         2\n",
            "          15       0.00      0.00      0.00         1\n",
            "\n",
            "    accuracy                           0.46       892\n",
            "   macro avg       0.28      0.19      0.20       892\n",
            "weighted avg       0.46      0.46      0.43       892\n",
            "\n"
          ],
          "name": "stdout"
        },
        {
          "output_type": "stream",
          "text": [
            "/usr/local/lib/python3.7/dist-packages/sklearn/metrics/_classification.py:1272: UndefinedMetricWarning: Precision and F-score are ill-defined and being set to 0.0 in labels with no predicted samples. Use `zero_division` parameter to control this behavior.\n",
            "  _warn_prf(average, modifier, msg_start, len(result))\n"
          ],
          "name": "stderr"
        }
      ]
    },
    {
      "cell_type": "markdown",
      "metadata": {
        "id": "lamOf1B_usSC"
      },
      "source": [
        "**Count + Deep Neural Network**"
      ]
    },
    {
      "cell_type": "code",
      "metadata": {
        "colab": {
          "base_uri": "https://localhost:8080/"
        },
        "id": "ASmO45OhuwDr",
        "outputId": "3c3edb05-4fb6-4e21-d23a-6e3847fe4477"
      },
      "source": [
        "custom_count_vectorizer = Custom_Count_Vectorizer(corpus=corpus, corpus_label=corpus_label, vectorizer='COUNT')\n",
        "dataset = custom_count_vectorizer.get_dataset(shuffle = True)"
      ],
      "execution_count": null,
      "outputs": [
        {
          "output_type": "stream",
          "text": [
            "Using Count Vectorizer\n"
          ],
          "name": "stdout"
        }
      ]
    },
    {
      "cell_type": "code",
      "metadata": {
        "colab": {
          "base_uri": "https://localhost:8080/"
        },
        "id": "tLoe5574vCvv",
        "outputId": "e19d0f7a-d583-4741-cf35-4980cde45844"
      },
      "source": [
        "train_cnt = int(80.0 * len(dataset) / 100.0)\n",
        "train_dataset = dataset[ : train_cnt]\n",
        "test_dataset = dataset[train_cnt : ]\n",
        "print('Train size =', len(train_dataset), '\\nTest size =', len(test_dataset))"
      ],
      "execution_count": null,
      "outputs": [
        {
          "output_type": "stream",
          "text": [
            "Train size = 3564 \n",
            "Test size = 892\n"
          ],
          "name": "stdout"
        }
      ]
    },
    {
      "cell_type": "code",
      "metadata": {
        "id": "jrjRPbVhvHV2"
      },
      "source": [
        "# Hyperparameters\n",
        "batch_size = 10\n",
        "num_iters = 3000\n",
        "input_dim = len(dataset[0][0])\n",
        "output_dim = len(all_genres)\n",
        "learning_rate = 0.001\n",
        "\n",
        "# Device\n",
        "device = torch.device(\"cuda:0\" if torch.cuda.is_available() else \"cpu\")"
      ],
      "execution_count": null,
      "outputs": []
    },
    {
      "cell_type": "code",
      "metadata": {
        "colab": {
          "base_uri": "https://localhost:8080/"
        },
        "id": "om9rWeSwvJ1-",
        "outputId": "9e89e6e2-4f3a-414b-ed90-488b0b520842"
      },
      "source": [
        "num_epochs = num_iters / (len(train_dataset) / batch_size)\n",
        "num_epochs = int(num_epochs)\n",
        "\n",
        "train_loader = torch.utils.data.DataLoader(dataset=train_dataset, \n",
        "                                           batch_size=batch_size, \n",
        "                                           shuffle=True)   # It's better to shuffle the whole training dataset! \n",
        "\n",
        "test_loader = torch.utils.data.DataLoader(dataset=test_dataset, \n",
        "                                          batch_size=batch_size, \n",
        "                                          shuffle=False)  \n",
        "print(num_epochs)"
      ],
      "execution_count": null,
      "outputs": [
        {
          "output_type": "stream",
          "text": [
            "8\n"
          ],
          "name": "stdout"
        }
      ]
    },
    {
      "cell_type": "code",
      "metadata": {
        "id": "B3oBGKclvMnE"
      },
      "source": [
        "class DeepNeuralNetworkModel(nn.Module):\n",
        "  def __init__(self, input_size, num_classes, num_hidden_1, num_hidden_2, num_hidden_3):\n",
        "    super().__init__()\n",
        "    ### 1st hidden layer: 784 --> 100\n",
        "    self.linear_1 = nn.Linear(input_size, num_hidden_1)\n",
        "    ### Non-linearity in 1st hidden layer\n",
        "    self.relu_1 = nn.ReLU6()\n",
        "\n",
        "    ### 2nd hidden layer: 100 --> 100\n",
        "    self.linear_2 = nn.Linear(num_hidden_1, num_hidden_2)\n",
        "    ### Non-linearity in 2nd hidden layer\n",
        "    self.relu_2 = nn.ReLU6()\n",
        "\n",
        "    self.linear_3 = nn.Linear(num_hidden_2, num_hidden_3)\n",
        "    ### Non-linearity in 2nd hidden layer\n",
        "    self.relu_3 = nn.ReLU6()\n",
        "\n",
        "    ### Output layer: 100 --> 10\n",
        "    self.linear_out = nn.Linear(num_hidden_3, num_classes)\n",
        "\n",
        "  def forward(self, x):\n",
        "    ### 1st hidden layer\n",
        "    out  = self.linear_1(x)\n",
        "    ### Non-linearity in 1st hidden layer\n",
        "    out = self.relu_1(out)\n",
        "    \n",
        "    ### 2nd hidden layer\n",
        "    out  = self.linear_2(out)\n",
        "    ### Non-linearity in 2nd hidden layer\n",
        "    out = self.relu_2(out)\n",
        "    \n",
        "    ### 2nd hidden layer\n",
        "    out  = self.linear_3(out)\n",
        "    ### Non-linearity in 2nd hidden layer\n",
        "    out = self.relu_3(out)\n",
        "\n",
        "    # Linear layer (output)\n",
        "    probas  = self.linear_out(out)\n",
        "    return probas"
      ],
      "execution_count": null,
      "outputs": []
    },
    {
      "cell_type": "code",
      "metadata": {
        "colab": {
          "base_uri": "https://localhost:8080/"
        },
        "id": "Y5Isei6rvQ_f",
        "outputId": "b367a3e7-8aa1-46c6-8e26-1ea9e6f1f9db"
      },
      "source": [
        "model = DeepNeuralNetworkModel(input_size = input_dim,\n",
        "                               num_classes = output_dim,\n",
        "                               num_hidden_1 = 512, num_hidden_2 = 256, num_hidden_3 = 64)\n",
        "# To enable GPU\n",
        "model.to(device)"
      ],
      "execution_count": null,
      "outputs": [
        {
          "output_type": "execute_result",
          "data": {
            "text/plain": [
              "DeepNeuralNetworkModel(\n",
              "  (linear_1): Linear(in_features=25769, out_features=512, bias=True)\n",
              "  (relu_1): ReLU6()\n",
              "  (linear_2): Linear(in_features=512, out_features=256, bias=True)\n",
              "  (relu_2): ReLU6()\n",
              "  (linear_3): Linear(in_features=256, out_features=64, bias=True)\n",
              "  (relu_3): ReLU6()\n",
              "  (linear_out): Linear(in_features=64, out_features=19, bias=True)\n",
              ")"
            ]
          },
          "metadata": {
            "tags": []
          },
          "execution_count": 64
        }
      ]
    },
    {
      "cell_type": "code",
      "metadata": {
        "id": "IUzqDZIvvU45"
      },
      "source": [
        "# INSTANTIATE OPTIMIZER CLASS\n",
        "optimizer = torch.optim.Adam(model.parameters(), lr=learning_rate)\n",
        "criterion = nn.CrossEntropyLoss()"
      ],
      "execution_count": null,
      "outputs": []
    },
    {
      "cell_type": "code",
      "metadata": {
        "colab": {
          "base_uri": "https://localhost:8080/"
        },
        "id": "mRaW8WsqvYdg",
        "outputId": "eb52f8cc-249e-4f6d-a81f-d905b8df3d62"
      },
      "source": [
        "iteration_loss = []\n",
        "iter = 0\n",
        "for epoch in range(num_epochs):\n",
        "  for i, (plots, labels) in enumerate(train_loader):\n",
        "\n",
        "    plots = plots.view(-1, input_dim).to(device)\n",
        "    labels = labels.to(device)\n",
        "\n",
        "    # Clear gradients w.r.t. parameters\n",
        "    optimizer.zero_grad()\n",
        "\n",
        "    # Forward pass to get output/logits\n",
        "    outputs = model(plots) \n",
        "    \n",
        "    # Calculate Loss: softmax --> cross entropy loss\n",
        "    loss = criterion(outputs, labels)\n",
        "\n",
        "    # Getting gradients w.r.t. parameters\n",
        "    loss.backward()\n",
        "\n",
        "    # Updating parameters\n",
        "    optimizer.step()\n",
        "\n",
        "    iter += 1\n",
        "\n",
        "    if iter % 500 == 0:\n",
        "      # Calculate Accuracy         \n",
        "      correct = 0\n",
        "      total = 0\n",
        "      # Iterate through test dataset\n",
        "      for plots, labels in test_loader:\n",
        "               \n",
        "        plots = plots.view(-1, input_dim).to(device)\n",
        "\n",
        "        # Forward pass only to get logits/output\n",
        "        outputs = model(plots)\n",
        "\n",
        "        # Get predictions from the maximum value\n",
        "        _, predicted = torch.max(outputs, 1)\n",
        "\n",
        "        # Total number of labels\n",
        "        total += labels.size(0)\n",
        "\n",
        "\n",
        "        # Total correct predictions\n",
        "        if torch.cuda.is_available():\n",
        "          correct += (predicted.cpu() == labels.cpu()).sum() \n",
        "          #print('cuda', predicted)\n",
        "        else:\n",
        "          correct += (predicted == labels).sum()\n",
        "          #print('normal', predicted)\n",
        "\n",
        "      accuracy = 100 * correct.item() / total\n",
        "      # Print Loss\n",
        "      iteration_loss.append(loss.item())\n",
        "      print('Iteration: {}. Loss: {}. Accuracy: {}'.format(iter, loss.item(), accuracy))"
      ],
      "execution_count": null,
      "outputs": [
        {
          "output_type": "stream",
          "text": [
            "Iteration: 500. Loss: 1.1619991064071655. Accuracy: 45.403587443946186\n",
            "Iteration: 1000. Loss: 0.3845520615577698. Accuracy: 47.75784753363229\n",
            "Iteration: 1500. Loss: 0.09776733070611954. Accuracy: 45.964125560538115\n",
            "Iteration: 2000. Loss: 0.0018553019035607576. Accuracy: 46.412556053811656\n",
            "Iteration: 2500. Loss: 0.02223454788327217. Accuracy: 46.52466367713004\n"
          ],
          "name": "stdout"
        }
      ]
    },
    {
      "cell_type": "code",
      "metadata": {
        "colab": {
          "base_uri": "https://localhost:8080/",
          "height": 298
        },
        "id": "LRMd-e0hvbTu",
        "outputId": "7d4b4712-39f8-4b04-ef0e-41dec0b3090e"
      },
      "source": [
        "print (iteration_loss)\n",
        "plt.plot(iteration_loss)\n",
        "plt.ylabel('Cross Entropy Loss')\n",
        "plt.xlabel('Iteration (in every 500)')\n",
        "plt.show()"
      ],
      "execution_count": null,
      "outputs": [
        {
          "output_type": "stream",
          "text": [
            "[1.1619991064071655, 0.3845520615577698, 0.09776733070611954, 0.0018553019035607576, 0.02223454788327217]\n"
          ],
          "name": "stdout"
        },
        {
          "output_type": "display_data",
          "data": {
            "image/png": "[encoded data removed]",
            "text/plain": [
              "<Figure size 432x288 with 1 Axes>"
            ]
          },
          "metadata": {
            "tags": [],
            "needs_background": "light"
          }
        }
      ]
    },
    {
      "cell_type": "code",
      "metadata": {
        "id": "tUuXHPEZve5l"
      },
      "source": [
        "def new_prediction(plot):\n",
        "  plot = custom_count_vectorizer.get_tensor(text)\n",
        "  plot = plot.view(-1, input_dim).to(device)\n",
        "  outputs = model(plot)\n",
        "  _, predicted = torch.max(outputs, 1)\n",
        "  return int(predicted)\n",
        "  \n",
        "def new_prediction_by_vector(vector):\n",
        "  plot = vector\n",
        "  plot = plot.view(-1, input_dim).to(device)\n",
        "  outputs = model(plot)\n",
        "  _, predicted = torch.max(outputs, 1)\n",
        "  return int(predicted)"
      ],
      "execution_count": null,
      "outputs": []
    },
    {
      "cell_type": "code",
      "metadata": {
        "colab": {
          "base_uri": "https://localhost:8080/"
        },
        "id": "BL9agVWBvh22",
        "outputId": "9c84d2ed-4bc7-42f0-fc0d-9dc318ae90af"
      },
      "source": [
        "out_true = []\n",
        "out_pred = []\n",
        "for plot in test_dataset:\n",
        "  pred = new_prediction_by_vector(plot[0])\n",
        "  out_true.append(plot[1])\n",
        "  out_pred.append(pred)\n",
        "\n",
        "cm = confusion_matrix(out_true, out_pred)\n",
        "print(cm)\n",
        "cr = classification_report(out_true, out_pred)\n",
        "print(cr)"
      ],
      "execution_count": null,
      "outputs": [
        {
          "output_type": "stream",
          "text": [
            "[[ 16   7   9   1   1   4   0   0   0   0   0   0   0   3   0   0]\n",
            " [  5  83  21   2   2  11  13   1   0   1   0   0   0  14   0   0]\n",
            " [ 12   9 163   8   3  43  10   0   1   1   0   1   0   9   0   0]\n",
            " [  3  12   6  14   3  10   1   0   0   0   1   0   0   3   0   0]\n",
            " [  1   0  13   1   9   7   2   1   2   1   0   0   0   1   0   0]\n",
            " [  3   9  50   5   8  67   8   0   1   2   0   5   0  11   0   0]\n",
            " [  0  11  16   2   2  11  18   0   4   1   2   0   0   3   0   0]\n",
            " [  0   1   0   0   0   1   1   0   0   0   0   0   0   1   0   0]\n",
            " [  0   1   0   0   0   4   0   0   1   0   0   0   0   1   0   0]\n",
            " [  0   0   1   0   0   1   0   0   0   0   0   0   0   0   0   0]\n",
            " [  1   0   1   0   0   1   0   0   0   0   0   0   0   2   0   0]\n",
            " [  1   1  11   3   1   3   1   0   0   0   0  31   0   2   0   0]\n",
            " [  1   0   2   0   0   0   0   0   0   0   0   0   0   0   0   0]\n",
            " [  0   2   8   2   0   2   0   0   0   0   1   0   0  14   0   0]\n",
            " [  0   0   1   0   0   1   0   0   0   0   0   0   0   1   0   0]\n",
            " [  0   0   0   0   0   1   0   0   0   0   0   0   0   0   0   0]]\n",
            "              precision    recall  f1-score   support\n",
            "\n",
            "           0       0.37      0.39      0.38        41\n",
            "           1       0.61      0.54      0.57       153\n",
            "           2       0.54      0.63      0.58       260\n",
            "           3       0.37      0.26      0.31        53\n",
            "           4       0.31      0.24      0.27        38\n",
            "           5       0.40      0.40      0.40       169\n",
            "           6       0.33      0.26      0.29        70\n",
            "           7       0.00      0.00      0.00         4\n",
            "           8       0.11      0.14      0.12         7\n",
            "           9       0.00      0.00      0.00         2\n",
            "          10       0.00      0.00      0.00         5\n",
            "          11       0.84      0.57      0.68        54\n",
            "          12       0.00      0.00      0.00         3\n",
            "          13       0.22      0.48      0.30        29\n",
            "          15       0.00      0.00      0.00         3\n",
            "          17       0.00      0.00      0.00         1\n",
            "\n",
            "    accuracy                           0.47       892\n",
            "   macro avg       0.26      0.24      0.24       892\n",
            "weighted avg       0.47      0.47      0.47       892\n",
            "\n"
          ],
          "name": "stdout"
        },
        {
          "output_type": "stream",
          "text": [
            "/usr/local/lib/python3.7/dist-packages/sklearn/metrics/_classification.py:1272: UndefinedMetricWarning: Precision and F-score are ill-defined and being set to 0.0 in labels with no predicted samples. Use `zero_division` parameter to control this behavior.\n",
            "  _warn_prf(average, modifier, msg_start, len(result))\n"
          ],
          "name": "stderr"
        }
      ]
    },
    {
      "cell_type": "markdown",
      "metadata": {
        "id": "_D0JmcnSvo_Z"
      },
      "source": [
        "** Count + Logistic Regression **"
      ]
    },
    {
      "cell_type": "code",
      "metadata": {
        "colab": {
          "base_uri": "https://localhost:8080/"
        },
        "id": "Jqf1T52FvlUC",
        "outputId": "4ce6d9c2-1463-48cd-daf5-93068ec7a992"
      },
      "source": [
        "custom_count_vectorizer = Custom_Count_Vectorizer(corpus=corpus, corpus_label=corpus_label, vectorizer='COUNT')\n",
        "dataset = custom_count_vectorizer.get_dataset(shuffle=True)"
      ],
      "execution_count": null,
      "outputs": [
        {
          "output_type": "stream",
          "text": [
            "Using Count Vectorizer\n"
          ],
          "name": "stdout"
        }
      ]
    },
    {
      "cell_type": "code",
      "metadata": {
        "colab": {
          "base_uri": "https://localhost:8080/"
        },
        "id": "A035JaoavuF1",
        "outputId": "8054e31b-95e3-4475-90d4-af831e782373"
      },
      "source": [
        "train_cnt = int(80.0 * len(dataset) / 100.0)\n",
        "train_dataset = dataset[ : train_cnt]\n",
        "test_dataset = dataset[train_cnt : ]\n",
        "print('Train size =', len(train_dataset), '\\nTest size =', len(test_dataset))"
      ],
      "execution_count": null,
      "outputs": [
        {
          "output_type": "stream",
          "text": [
            "Train size = 3564 \n",
            "Test size = 892\n"
          ],
          "name": "stdout"
        }
      ]
    },
    {
      "cell_type": "code",
      "metadata": {
        "id": "U2M1R_xzvxJK"
      },
      "source": [
        "# Hyperparameters\n",
        "batch_size = 80\n",
        "num_iters = 5000\n",
        "input_dim = len(dataset[0][0])\n",
        "output_dim = len(all_genres)\n",
        "learning_rate = 0.005\n",
        "\n",
        "# Device\n",
        "device = torch.device(\"cuda:0\" if torch.cuda.is_available() else \"cpu\")"
      ],
      "execution_count": null,
      "outputs": []
    },
    {
      "cell_type": "code",
      "metadata": {
        "colab": {
          "base_uri": "https://localhost:8080/"
        },
        "id": "ASL169IIvzhV",
        "outputId": "a1df3d11-6cd8-4823-b9ad-543ebb41ac02"
      },
      "source": [
        "num_epochs = num_iters / (len(train_dataset) / batch_size)\n",
        "num_epochs = int(num_epochs)\n",
        "\n",
        "train_loader = torch.utils.data.DataLoader(dataset=train_dataset, \n",
        "                                           batch_size=batch_size, \n",
        "                                           shuffle=True)   # It's better to shuffle the whole training dataset! \n",
        "\n",
        "test_loader = torch.utils.data.DataLoader(dataset=test_dataset, \n",
        "                                          batch_size=batch_size, \n",
        "                                          shuffle=False)  \n",
        "print(num_epochs)"
      ],
      "execution_count": null,
      "outputs": [
        {
          "output_type": "stream",
          "text": [
            "112\n"
          ],
          "name": "stdout"
        }
      ]
    },
    {
      "cell_type": "code",
      "metadata": {
        "id": "oFbSQ-Wav2Jj"
      },
      "source": [
        "class LogisticRegressionModel(nn.Module):\n",
        "  def __init__(self, input_size, num_classes):\n",
        "    super().__init__()\n",
        "    self.linear = nn.Linear(input_size, num_classes)\n",
        "\n",
        "  def forward(self, x):\n",
        "    logits  = self.linear(x)\n",
        "    probas = F.softmax(logits, dim=1)\n",
        "    return logits, probas"
      ],
      "execution_count": null,
      "outputs": []
    },
    {
      "cell_type": "code",
      "metadata": {
        "colab": {
          "base_uri": "https://localhost:8080/"
        },
        "id": "yWPDEoNGv4uj",
        "outputId": "2e9f258c-f561-414b-9f28-6857432ec943"
      },
      "source": [
        "'''\n",
        "INSTANTIATE MODEL CLASS\n",
        "'''\n",
        "model = LogisticRegressionModel(input_size=input_dim,\n",
        "                                num_classes=output_dim)\n",
        "# To enable GPU\n",
        "model.to(device)"
      ],
      "execution_count": null,
      "outputs": [
        {
          "output_type": "execute_result",
          "data": {
            "text/plain": [
              "LogisticRegressionModel(\n",
              "  (linear): Linear(in_features=25769, out_features=19, bias=True)\n",
              ")"
            ]
          },
          "metadata": {
            "tags": []
          },
          "execution_count": 75
        }
      ]
    },
    {
      "cell_type": "code",
      "metadata": {
        "id": "fK7lx0Mjv8PI"
      },
      "source": [
        "# INSTANTIATE OPTIMIZER CLASS\n",
        "optimizer = torch.optim.Adam(model.parameters(), lr=learning_rate)"
      ],
      "execution_count": null,
      "outputs": []
    },
    {
      "cell_type": "code",
      "metadata": {
        "colab": {
          "base_uri": "https://localhost:8080/"
        },
        "id": "io1gqKMHwAgv",
        "outputId": "55a9c197-bb5a-4bda-d6a5-5dbeb8c49629"
      },
      "source": [
        "'''\n",
        "TRAIN THE MODEL\n",
        "'''\n",
        "iteration_loss = []\n",
        "iter = 0\n",
        "for epoch in range(num_epochs):\n",
        "  for i, (plots, labels) in enumerate(train_loader):\n",
        "\n",
        "    plots = plots.view(-1, input_dim).to(device)\n",
        "    labels = labels.to(device)\n",
        "\n",
        "    # Clear gradients w.r.t. parameters\n",
        "    optimizer.zero_grad()\n",
        "\n",
        "    # Forward pass to get output/logits\n",
        "    logits, probas = model(plots) \n",
        "\n",
        "    # Calculate Loss: PyTorch implementation of CrossEntropyLoss works with logits, not probabilities\n",
        "    loss = F.cross_entropy(logits, labels)\n",
        "\n",
        "    # Getting gradients w.r.t. parameters\n",
        "    loss.backward()\n",
        "\n",
        "    # Updating parameters\n",
        "    optimizer.step()\n",
        "\n",
        "    iter += 1\n",
        "\n",
        "    if iter % 1000 == 0:\n",
        "      # Calculate Accuracy         \n",
        "      correct = 0\n",
        "      total = 0\n",
        "      # Iterate through test dataset\n",
        "      for plots, labels in test_loader:\n",
        "               \n",
        "        plots = plots.view(-1, input_dim).to(device)\n",
        "\n",
        "        # Forward pass only to get logits/output\n",
        "        logits, probas = model(plots)\n",
        "\n",
        "        # Get predictions from the maximum value\n",
        "        _, predicted = torch.max(probas, 1)\n",
        "\n",
        "        # Total number of labels\n",
        "        total += labels.size(0)\n",
        "\n",
        "\n",
        "        # Total correct predictions\n",
        "        if torch.cuda.is_available():\n",
        "          correct += (predicted.cpu() == labels.cpu()).sum() \n",
        "        else:\n",
        "          correct += (predicted == labels).sum()\n",
        "\n",
        "      accuracy = 100 * correct.item() / total\n",
        "\n",
        "      # Print Loss\n",
        "      iteration_loss.append(loss.item())\n",
        "      print('Iteration: {}. Loss: {}. Accuracy: {}'.format(iter, loss.item(), accuracy))\n",
        "print(\"done training\")"
      ],
      "execution_count": null,
      "outputs": [
        {
          "output_type": "stream",
          "text": [
            "Iteration: 1000. Loss: 0.035699259489774704. Accuracy: 47.869955156950674\n",
            "Iteration: 2000. Loss: 0.008578695356845856. Accuracy: 47.53363228699551\n",
            "Iteration: 3000. Loss: 0.004409344866871834. Accuracy: 47.53363228699551\n",
            "Iteration: 4000. Loss: 0.00209928210824728. Accuracy: 47.08520179372197\n",
            "Iteration: 5000. Loss: 0.0010017913300544024. Accuracy: 46.300448430493276\n",
            "done training\n"
          ],
          "name": "stdout"
        }
      ]
    },
    {
      "cell_type": "code",
      "metadata": {
        "colab": {
          "base_uri": "https://localhost:8080/",
          "height": 297
        },
        "id": "IjlpbwntwD9V",
        "outputId": "89d47c64-75b7-4b9c-8cc6-e1fb7ce6905c"
      },
      "source": [
        "print (iteration_loss)\n",
        "plt.plot(iteration_loss)\n",
        "plt.ylabel('Cross Entropy Loss')\n",
        "plt.xlabel('Iteration (in every 500)')\n",
        "plt.show()"
      ],
      "execution_count": null,
      "outputs": [
        {
          "output_type": "stream",
          "text": [
            "[0.035699259489774704, 0.008578695356845856, 0.004409344866871834, 0.00209928210824728, 0.0010017913300544024]\n"
          ],
          "name": "stdout"
        },
        {
          "output_type": "display_data",
          "data": {
            "image/png": "[encoded data removed]",
            "text/plain": [
              "<Figure size 432x288 with 1 Axes>"
            ]
          },
          "metadata": {
            "tags": [],
            "needs_background": "light"
          }
        }
      ]
    },
    {
      "cell_type": "code",
      "metadata": {
        "id": "z1m6RfrdwHGv"
      },
      "source": [
        "def new_prediction_lg(plot):\n",
        "  plot = custom_count_vectorizer.get_tensor(text)\n",
        "  plots = plot.view(-1, input_dim).to(device)\n",
        "  logits, probas = model(plots)\n",
        "  _, predicted = torch.max(probas, 1)\n",
        "  return int(predicted)\n",
        "  \n",
        "def new_prediction_by_vector_lg(vector):\n",
        "  plot = vector\n",
        "  plot = plot.view(-1, input_dim).to(device)\n",
        "  logits, probas = model(plot)\n",
        "  _, predicted = torch.max(probas, 1)\n",
        "  return int(predicted)"
      ],
      "execution_count": null,
      "outputs": []
    },
    {
      "cell_type": "code",
      "metadata": {
        "colab": {
          "base_uri": "https://localhost:8080/"
        },
        "id": "LcYPX89bwJhQ",
        "outputId": "f8bbdcaa-1945-446b-865f-916cdd78ebb6"
      },
      "source": [
        "out_true = []\n",
        "out_pred = []\n",
        "for plot in test_dataset:\n",
        "  pred = new_prediction_by_vector_lg(plot[0])\n",
        "  out_true.append(plot[1])\n",
        "  out_pred.append(pred)\n",
        "\n",
        "cm = confusion_matrix(out_true, out_pred)\n",
        "print(cm)\n",
        "cr = classification_report(out_true, out_pred)\n",
        "print(cr)"
      ],
      "execution_count": null,
      "outputs": [
        {
          "output_type": "stream",
          "text": [
            "[[  7  14  16   5   0   6   1   0   0   0   0   0   0   0   0   0   0]\n",
            " [  6  89  23   1   1  24  11   0   0   0   0   1   0   0   0   0   0]\n",
            " [  1  16 193   1   1  39   6   0   0   0   0   3   0   1   0   0   0]\n",
            " [  2  10  14   4   0  14   4   0   0   0   0   0   0   0   0   0   0]\n",
            " [  0   3  16   0   3  19   3   0   0   0   0   2   0   0   0   0   0]\n",
            " [  0  11  83   5   5  74   7   0   0   0   0   1   0   1   0   0   0]\n",
            " [  0  12  12   0   0  14  16   0   0   0   0   0   0   2   0   0   0]\n",
            " [  0   2   2   0   0   0   0   0   0   0   0   0   0   0   0   0   0]\n",
            " [  0   0   0   0   0   0   2   0   0   0   0   0   0   0   0   0   0]\n",
            " [  0   0   2   0   0   1   0   0   0   0   0   0   0   0   0   0   0]\n",
            " [  0   1   1   0   0   1   0   0   0   0   0   0   0   0   0   0   0]\n",
            " [  0   4  12   0   0   7   1   0   0   0   0  22   0   0   0   0   0]\n",
            " [  0   0   1   0   0   1   0   0   0   0   0   0   0   0   0   0   0]\n",
            " [  1   4   5   1   0   7   2   0   0   0   0   0   0   5   0   0   0]\n",
            " [  0   0   2   0   0   0   0   0   0   0   0   0   0   0   0   0   0]\n",
            " [  0   0   1   0   0   0   0   0   0   0   0   0   0   0   0   0   0]\n",
            " [  0   0   0   0   0   1   0   0   0   0   0   0   0   0   0   0   0]]\n",
            "              precision    recall  f1-score   support\n",
            "\n",
            "           0       0.41      0.14      0.21        49\n",
            "           1       0.54      0.57      0.55       156\n",
            "           2       0.50      0.74      0.60       261\n",
            "           3       0.24      0.08      0.12        48\n",
            "           4       0.30      0.07      0.11        46\n",
            "           5       0.36      0.40      0.37       187\n",
            "           6       0.30      0.29      0.29        56\n",
            "           7       0.00      0.00      0.00         4\n",
            "           8       0.00      0.00      0.00         2\n",
            "           9       0.00      0.00      0.00         3\n",
            "          10       0.00      0.00      0.00         3\n",
            "          11       0.76      0.48      0.59        46\n",
            "          12       0.00      0.00      0.00         2\n",
            "          13       0.56      0.20      0.29        25\n",
            "          14       0.00      0.00      0.00         2\n",
            "          15       0.00      0.00      0.00         1\n",
            "          17       0.00      0.00      0.00         1\n",
            "\n",
            "    accuracy                           0.46       892\n",
            "   macro avg       0.23      0.17      0.18       892\n",
            "weighted avg       0.44      0.46      0.43       892\n",
            "\n"
          ],
          "name": "stdout"
        },
        {
          "output_type": "stream",
          "text": [
            "/usr/local/lib/python3.7/dist-packages/sklearn/metrics/_classification.py:1272: UndefinedMetricWarning: Precision and F-score are ill-defined and being set to 0.0 in labels with no predicted samples. Use `zero_division` parameter to control this behavior.\n",
            "  _warn_prf(average, modifier, msg_start, len(result))\n"
          ],
          "name": "stderr"
        }
      ]
    },
    {
      "cell_type": "code",
      "metadata": {
        "id": "DvYMRLkQwMp0"
      },
      "source": [
        ""
      ],
      "execution_count": null,
      "outputs": []
    }
  ]
}